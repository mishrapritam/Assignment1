{
 "cells": [
  {
   "cell_type": "code",
   "execution_count": 1,
   "id": "87a49f8f-b25c-41f3-b6fb-3724830ce130",
   "metadata": {},
   "outputs": [],
   "source": [
    "#Q1. Which keyword is used to create a function? Create a function to return a list of odd numbers in the\n",
    "#    range of 1 to 25."
   ]
  },
  {
   "cell_type": "code",
   "execution_count": 12,
   "id": "6220c1cc-1459-4ec2-8ddd-47ae0322ed52",
   "metadata": {},
   "outputs": [
    {
     "data": {
      "text/plain": [
       "'def key word is  used to create a function.'"
      ]
     },
     "execution_count": 12,
     "metadata": {},
     "output_type": "execute_result"
    }
   ],
   "source": [
    "\"\"\"def key word is  used to create a function.\"\"\"\n",
    "     "
   ]
  },
  {
   "cell_type": "code",
   "execution_count": 13,
   "id": "22592506-6424-4a83-ae42-b310968d53a9",
   "metadata": {},
   "outputs": [
    {
     "data": {
      "text/plain": [
       "range(0, 26)"
      ]
     },
     "execution_count": 13,
     "metadata": {},
     "output_type": "execute_result"
    }
   ],
   "source": [
    "range (0,26)"
   ]
  },
  {
   "cell_type": "code",
   "execution_count": 15,
   "id": "da2ecbe5-7dab-4acb-a1d1-a7bd1cc48e2d",
   "metadata": {},
   "outputs": [
    {
     "name": "stdout",
     "output_type": "stream",
     "text": [
      "0\n",
      "1\n",
      "2\n",
      "3\n",
      "4\n",
      "5\n",
      "6\n",
      "7\n",
      "8\n",
      "9\n",
      "10\n",
      "11\n",
      "12\n",
      "13\n",
      "14\n",
      "15\n",
      "16\n",
      "17\n",
      "18\n",
      "19\n",
      "20\n",
      "21\n",
      "22\n",
      "23\n",
      "24\n",
      "25\n"
     ]
    }
   ],
   "source": [
    "for i in range (26):\n",
    "    print (i)"
   ]
  },
  {
   "cell_type": "code",
   "execution_count": 16,
   "id": "c1d7e833-d1ad-4d45-9d4f-9cf66f207f90",
   "metadata": {},
   "outputs": [],
   "source": [
    "def numbers(n):\n",
    "    a,b = 0,26\n",
    "    \n",
    "    for i in range (n):\n",
    "        if i%2 ==1:\n",
    "            print (\"i is a odd number\", i)\n",
    "    "
   ]
  },
  {
   "cell_type": "code",
   "execution_count": 17,
   "id": "676fb91e-e7a1-4014-b194-4bbc681f10cd",
   "metadata": {},
   "outputs": [
    {
     "name": "stdout",
     "output_type": "stream",
     "text": [
      "i is a odd number 1\n",
      "i is a odd number 3\n",
      "i is a odd number 5\n",
      "i is a odd number 7\n",
      "i is a odd number 9\n",
      "i is a odd number 11\n",
      "i is a odd number 13\n",
      "i is a odd number 15\n",
      "i is a odd number 17\n",
      "i is a odd number 19\n",
      "i is a odd number 21\n",
      "i is a odd number 23\n",
      "i is a odd number 25\n"
     ]
    }
   ],
   "source": [
    "numbers(26)"
   ]
  },
  {
   "cell_type": "code",
   "execution_count": 18,
   "id": "1d1ba26d-a753-48d2-9ea8-8537bcf64ce5",
   "metadata": {},
   "outputs": [],
   "source": [
    "#Q2. Why *args and **kwargs is used in some functions? Create a function each for *args and **kwargs\n",
    "#to demonstrate their use."
   ]
  },
  {
   "cell_type": "code",
   "execution_count": 19,
   "id": "acf33ae7-6ffa-4395-b15a-68bbc16e227a",
   "metadata": {},
   "outputs": [
    {
     "data": {
      "text/plain": [
       "'Whenever we use *agrs in any function in python, it returns the value in the form of tuple. We can store any\\nvalue in it and it will return the result in tuple'"
      ]
     },
     "execution_count": 19,
     "metadata": {},
     "output_type": "execute_result"
    }
   ],
   "source": [
    "\"\"\"Whenever we use *agrs(argument) in any function in python, it returns the value in the form of tuple. We can store any\n",
    "value in it and it will return the result in tuple. We can aslo write any other letter combination(argument) in *args like *pritam\"\"\""
   ]
  },
  {
   "cell_type": "code",
   "execution_count": 25,
   "id": "4b358c2f-0577-4529-81fa-2a025c151751",
   "metadata": {},
   "outputs": [],
   "source": [
    "def test(*args):\n",
    "    return args"
   ]
  },
  {
   "cell_type": "code",
   "execution_count": 26,
   "id": "e22885be-f0ea-4e09-864d-6d2ca9729f32",
   "metadata": {},
   "outputs": [
    {
     "data": {
      "text/plain": [
       "tuple"
      ]
     },
     "execution_count": 26,
     "metadata": {},
     "output_type": "execute_result"
    }
   ],
   "source": [
    "type(test())"
   ]
  },
  {
   "cell_type": "code",
   "execution_count": 28,
   "id": "9eec47b9-64d3-4e40-9a9e-2bb69e010803",
   "metadata": {},
   "outputs": [],
   "source": [
    "def test1(*pritam):\n",
    "    return pritam"
   ]
  },
  {
   "cell_type": "code",
   "execution_count": 29,
   "id": "82ca6cfc-8063-4ddd-a689-1bf8803acc02",
   "metadata": {},
   "outputs": [
    {
     "data": {
      "text/plain": [
       "()"
      ]
     },
     "execution_count": 29,
     "metadata": {},
     "output_type": "execute_result"
    }
   ],
   "source": [
    "test1()"
   ]
  },
  {
   "cell_type": "code",
   "execution_count": 30,
   "id": "e8986e6d-a27d-4407-a973-bd660bf81afa",
   "metadata": {},
   "outputs": [
    {
     "data": {
      "text/plain": [
       "(1, 3, 4, 7.6, 8)"
      ]
     },
     "execution_count": 30,
     "metadata": {},
     "output_type": "execute_result"
    }
   ],
   "source": [
    "test1(1,3,4,7.6,8)"
   ]
  },
  {
   "cell_type": "code",
   "execution_count": 32,
   "id": "9bb5ef98-ffb1-49d4-a99c-1de7a112f963",
   "metadata": {},
   "outputs": [
    {
     "data": {
      "text/plain": [
       "'When we use **kwargs is a variable number in keyworded argument in function then the out data type \\nwe receive is in the form of dictonary'"
      ]
     },
     "execution_count": 32,
     "metadata": {},
     "output_type": "execute_result"
    }
   ],
   "source": [
    "\"\"\"When we use **kwargs is a variable number in keyworded argument in function then the out data type \n",
    "we receive is in the form of dictonary\"\"\""
   ]
  },
  {
   "cell_type": "code",
   "execution_count": 33,
   "id": "9e47bdcb-e8c6-4ced-ae74-651ac4ed1768",
   "metadata": {},
   "outputs": [],
   "source": [
    "def test2(**kwargs):\n",
    "    return kwargs\n"
   ]
  },
  {
   "cell_type": "code",
   "execution_count": 34,
   "id": "8d18165d-83c3-4b26-95ca-3e4037107780",
   "metadata": {},
   "outputs": [
    {
     "data": {
      "text/plain": [
       "{}"
      ]
     },
     "execution_count": 34,
     "metadata": {},
     "output_type": "execute_result"
    }
   ],
   "source": [
    "test2()"
   ]
  },
  {
   "cell_type": "code",
   "execution_count": 36,
   "id": "d13a64f7-2f74-4efc-99de-bdfa8546efed",
   "metadata": {},
   "outputs": [
    {
     "data": {
      "text/plain": [
       "dict"
      ]
     },
     "execution_count": 36,
     "metadata": {},
     "output_type": "execute_result"
    }
   ],
   "source": [
    "type(test2())"
   ]
  },
  {
   "cell_type": "code",
   "execution_count": 37,
   "id": "a9880201-5d9d-46f6-a5bf-06e7429eaf28",
   "metadata": {},
   "outputs": [
    {
     "data": {
      "text/plain": [
       "{'a': [12, 33, 4, 5], 'b': 'Pritam', 'c': 34.98}"
      ]
     },
     "execution_count": 37,
     "metadata": {},
     "output_type": "execute_result"
    }
   ],
   "source": [
    "test2 (a=[12,33,4,5], b=\"Pritam\", c= 34.98)"
   ]
  },
  {
   "cell_type": "code",
   "execution_count": 38,
   "id": "1b2ef6f2-3435-4ade-83a6-6743ee2f12d2",
   "metadata": {},
   "outputs": [],
   "source": [
    "#Q3. What is an iterator in python? Name the method used to initialise the iterator object and the method used \n",
    "#for iteration.Use these methods to print the first five elements of the given list [2, 4, 6, 8, 10, 12, 14,16, 18, 20]."
   ]
  },
  {
   "cell_type": "code",
   "execution_count": 39,
   "id": "f9311ae6-edcb-4acd-955b-bd49893bd4f0",
   "metadata": {},
   "outputs": [
    {
     "data": {
      "text/plain": [
       "'Iterator - It is an object in python whhich allows as to iterate over collection of data. In this we can get the\\nelements which are stored one by one using the next opeartion. Data can be stored in the form of tuples, list,\\ndictonaries and sets.'"
      ]
     },
     "execution_count": 39,
     "metadata": {},
     "output_type": "execute_result"
    }
   ],
   "source": [
    "\"\"\"Iterator - It is an object in python whhich allows as to iterate over collection of data. In this we can get the\n",
    "elements which are stored one by one using the next opeartion. Data can be stored in the form of tuples, list,\n",
    "dictonaries and sets.\"\"\""
   ]
  },
  {
   "cell_type": "code",
   "execution_count": 40,
   "id": "5e8b321a-a995-45cc-a4cc-a350e89fb1e3",
   "metadata": {},
   "outputs": [],
   "source": [
    "l=[2, 4, 6, 8, 10, 12, 14,16, 18, 20]"
   ]
  },
  {
   "cell_type": "code",
   "execution_count": 41,
   "id": "80eaf573-724d-4097-88de-31c972493e1b",
   "metadata": {},
   "outputs": [],
   "source": [
    "L= iter(l)"
   ]
  },
  {
   "cell_type": "code",
   "execution_count": 43,
   "id": "9a26f0e7-215f-4b8f-8d98-d4bec5b77eaf",
   "metadata": {},
   "outputs": [
    {
     "data": {
      "text/plain": [
       "2"
      ]
     },
     "execution_count": 43,
     "metadata": {},
     "output_type": "execute_result"
    }
   ],
   "source": [
    "next(L)"
   ]
  },
  {
   "cell_type": "code",
   "execution_count": 44,
   "id": "4743edd4-aab2-4cb8-8291-79ca45978aab",
   "metadata": {},
   "outputs": [
    {
     "data": {
      "text/plain": [
       "4"
      ]
     },
     "execution_count": 44,
     "metadata": {},
     "output_type": "execute_result"
    }
   ],
   "source": [
    "next(L)"
   ]
  },
  {
   "cell_type": "code",
   "execution_count": 45,
   "id": "7219586c-26e7-4333-a4e3-8dd293e785df",
   "metadata": {},
   "outputs": [
    {
     "data": {
      "text/plain": [
       "6"
      ]
     },
     "execution_count": 45,
     "metadata": {},
     "output_type": "execute_result"
    }
   ],
   "source": [
    "next(L)"
   ]
  },
  {
   "cell_type": "code",
   "execution_count": 46,
   "id": "3dbbdd8c-f1c1-418f-b35e-69bdd29ff9ea",
   "metadata": {},
   "outputs": [
    {
     "data": {
      "text/plain": [
       "8"
      ]
     },
     "execution_count": 46,
     "metadata": {},
     "output_type": "execute_result"
    }
   ],
   "source": [
    "next(L)"
   ]
  },
  {
   "cell_type": "code",
   "execution_count": 47,
   "id": "9b5b9539-c66e-4931-af23-352355c6a03a",
   "metadata": {},
   "outputs": [
    {
     "data": {
      "text/plain": [
       "10"
      ]
     },
     "execution_count": 47,
     "metadata": {},
     "output_type": "execute_result"
    }
   ],
   "source": [
    "next(L)"
   ]
  },
  {
   "cell_type": "code",
   "execution_count": 60,
   "id": "e3af6959-f508-4581-9dfc-84a0bce7331f",
   "metadata": {},
   "outputs": [
    {
     "name": "stdout",
     "output_type": "stream",
     "text": [
      "2\n",
      "4\n",
      "6\n",
      "8\n",
      "10\n",
      "12\n",
      "14\n",
      "16\n",
      "18\n",
      "20\n"
     ]
    }
   ],
   "source": [
    "for i in l:\n",
    "    print (i)"
   ]
  },
  {
   "cell_type": "code",
   "execution_count": 62,
   "id": "9293b296-4028-4b0c-811d-d26a7ad8d77b",
   "metadata": {},
   "outputs": [],
   "source": [
    "#Q4. What is a generator function in python? Why yield keyword is used? Give an example of a generator function."
   ]
  },
  {
   "cell_type": "code",
   "execution_count": 2,
   "id": "c43a5033-02b9-42d6-8722-f0aa9fa276eb",
   "metadata": {},
   "outputs": [
    {
     "data": {
      "text/plain": [
       "'Generator function- The function which generate output continously from the data\\nwithout holding everything in the memory. It is used for optimising the operation in python.\\nwhen the size of the data is very large so in that case instead of holding the entire data in\\nthe memory we can take output one by one.\\n\\nYield keyword is used for getting the output that we store in variable. It act as the same as a return operation acts in normal\\nfunction. It store the value of the variable for a short period in a generator function and then replaces it with a new value'"
      ]
     },
     "execution_count": 2,
     "metadata": {},
     "output_type": "execute_result"
    }
   ],
   "source": [
    "\"\"\"Generator function- The function which generate output continously from the data\n",
    "without holding everything in the memory. It is used for optimising the operation in python.\n",
    "when the size of the data is very large so in that case instead of holding the entire data in\n",
    "the memory we can take output one by one.\n",
    "\n",
    "Yield keyword is used for getting the output that we store in variable. It act as the same as a return operation acts in normal\n",
    "function. It store the value of the variable for a short period in a generator function and then replaces it with a new value.\n",
    "It is used to create generator function.\"\"\""
   ]
  },
  {
   "cell_type": "code",
   "execution_count": 4,
   "id": "fb099b81-79f5-46d1-b618-ba82b6b26679",
   "metadata": {},
   "outputs": [
    {
     "data": {
      "text/plain": [
       "range(0, 10)"
      ]
     },
     "execution_count": 4,
     "metadata": {},
     "output_type": "execute_result"
    }
   ],
   "source": [
    "range(10)\n",
    "    "
   ]
  },
  {
   "cell_type": "code",
   "execution_count": 13,
   "id": "b4405043-ad51-4fc8-a211-a59f3fe8316b",
   "metadata": {},
   "outputs": [],
   "source": [
    "def gen_fun(n):\n",
    "    a, b = 1, 2\n",
    "    for i in range(n):\n",
    "        yield a\n",
    "        \n",
    "        a, b = b, a*b"
   ]
  },
  {
   "cell_type": "code",
   "execution_count": 10,
   "id": "6b272d0c-8da1-4a57-bf8a-5a63a661fddf",
   "metadata": {},
   "outputs": [
    {
     "data": {
      "text/plain": [
       "<generator object gen_fun at 0x7fe11c16e0a0>"
      ]
     },
     "execution_count": 10,
     "metadata": {},
     "output_type": "execute_result"
    }
   ],
   "source": [
    "gen_fun(10)"
   ]
  },
  {
   "cell_type": "code",
   "execution_count": 14,
   "id": "daa33578-5acc-4ddd-a920-b9d2b193e1d1",
   "metadata": {},
   "outputs": [
    {
     "name": "stdout",
     "output_type": "stream",
     "text": [
      "1\n",
      "2\n",
      "2\n",
      "4\n",
      "8\n",
      "32\n",
      "256\n",
      "8192\n",
      "2097152\n",
      "17179869184\n"
     ]
    }
   ],
   "source": [
    "for i in gen_fun(10):\n",
    "    print (i)"
   ]
  },
  {
   "cell_type": "code",
   "execution_count": 15,
   "id": "ee502399-0bc2-42d7-bf72-ac207ba201b0",
   "metadata": {},
   "outputs": [],
   "source": [
    "#Q5. Create a generator function for prime numbers less than 1000. Use the next() method to print the\n",
    "#first 20 prime numbers."
   ]
  },
  {
   "cell_type": "code",
   "execution_count": 16,
   "id": "5f2e3eee-493e-4614-8ac4-ac13933721ab",
   "metadata": {},
   "outputs": [
    {
     "data": {
      "text/plain": [
       "range(0, 1000)"
      ]
     },
     "execution_count": 16,
     "metadata": {},
     "output_type": "execute_result"
    }
   ],
   "source": [
    "range (1000)\n",
    "    "
   ]
  },
  {
   "cell_type": "code",
   "execution_count": 1,
   "id": "e96e11e7-a257-4d51-bb53-c575f2fcf70f",
   "metadata": {},
   "outputs": [
    {
     "name": "stdout",
     "output_type": "stream",
     "text": [
      "2\n",
      "3\n",
      "5\n",
      "7\n",
      "11\n",
      "13\n",
      "17\n",
      "19\n",
      "23\n",
      "29\n",
      "31\n",
      "37\n",
      "41\n",
      "43\n",
      "47\n",
      "53\n",
      "59\n",
      "61\n",
      "67\n",
      "71\n",
      "73\n",
      "79\n",
      "83\n",
      "89\n",
      "97\n",
      "101\n",
      "103\n",
      "107\n",
      "109\n",
      "113\n",
      "127\n",
      "131\n",
      "137\n",
      "139\n",
      "149\n",
      "151\n",
      "157\n",
      "163\n",
      "167\n",
      "173\n",
      "179\n",
      "181\n",
      "191\n",
      "193\n",
      "197\n",
      "199\n",
      "211\n",
      "223\n",
      "227\n",
      "229\n",
      "233\n",
      "239\n",
      "241\n",
      "251\n",
      "257\n",
      "263\n",
      "269\n",
      "271\n",
      "277\n",
      "281\n",
      "283\n",
      "293\n",
      "307\n",
      "311\n",
      "313\n",
      "317\n",
      "331\n",
      "337\n",
      "347\n",
      "349\n",
      "353\n",
      "359\n",
      "367\n",
      "373\n",
      "379\n",
      "383\n",
      "389\n",
      "397\n",
      "401\n",
      "409\n",
      "419\n",
      "421\n",
      "431\n",
      "433\n",
      "439\n",
      "443\n",
      "449\n",
      "457\n",
      "461\n",
      "463\n",
      "467\n",
      "479\n",
      "487\n",
      "491\n",
      "499\n",
      "503\n",
      "509\n",
      "521\n",
      "523\n",
      "541\n",
      "547\n",
      "557\n",
      "563\n",
      "569\n",
      "571\n",
      "577\n",
      "587\n",
      "593\n",
      "599\n",
      "601\n",
      "607\n",
      "613\n",
      "617\n",
      "619\n",
      "631\n",
      "641\n",
      "643\n",
      "647\n",
      "653\n",
      "659\n",
      "661\n",
      "673\n",
      "677\n",
      "683\n",
      "691\n",
      "701\n",
      "709\n",
      "719\n",
      "727\n",
      "733\n",
      "739\n",
      "743\n",
      "751\n",
      "757\n",
      "761\n",
      "769\n",
      "773\n",
      "787\n",
      "797\n",
      "809\n",
      "811\n",
      "821\n",
      "823\n",
      "827\n",
      "829\n",
      "839\n",
      "853\n",
      "857\n",
      "859\n",
      "863\n",
      "877\n",
      "881\n",
      "883\n",
      "887\n",
      "907\n",
      "911\n",
      "919\n",
      "929\n",
      "937\n",
      "941\n",
      "947\n",
      "953\n",
      "967\n",
      "971\n",
      "977\n",
      "983\n",
      "991\n",
      "997\n"
     ]
    }
   ],
   "source": [
    "def prime_generator(start, end):\n",
    "    for num in range(start, end + 1):\n",
    "        if num > 1:\n",
    "            for i in range(2, int(num ** 0.5) +1 ):\n",
    "                if num % i == 0:\n",
    "                    break\n",
    "            else:\n",
    "                yield num\n",
    "\n",
    "generator = prime_generator(1, 1000)\n",
    "\n",
    "# Print the prime numbers\n",
    "for prime in generator:\n",
    "    print(prime)\n",
    "\n",
    "     "
   ]
  },
  {
   "cell_type": "code",
   "execution_count": 4,
   "id": "743059c2-76b5-4480-b15a-35803ba6f788",
   "metadata": {},
   "outputs": [],
   "source": [
    "for i in generator:\n",
    "    "
   ]
  },
  {
   "cell_type": "code",
   "execution_count": null,
   "id": "d66465f6-3c57-4639-944a-cb7b2f201909",
   "metadata": {},
   "outputs": [],
   "source": [
    "#Q6. Write a python program to print the first 10 Fibonacci numbers using a while loop."
   ]
  },
  {
   "cell_type": "code",
   "execution_count": 11,
   "id": "c2779fa8-7b8a-4173-b290-c1455b78e6d2",
   "metadata": {},
   "outputs": [],
   "source": [
    "def fib_num(n):\n",
    "    \n",
    "    a, b = 0,1\n",
    "    \n",
    "    while True:\n",
    "        yield a\n",
    "        \n",
    "        a,b =b, a+b\n",
    "        "
   ]
  },
  {
   "cell_type": "code",
   "execution_count": 12,
   "id": "997536d1-291e-465a-b902-9ffa3c1efd4e",
   "metadata": {},
   "outputs": [],
   "source": [
    "fn= fib_num(1)"
   ]
  },
  {
   "cell_type": "code",
   "execution_count": 13,
   "id": "439c39c4-78f0-40c2-8c58-e00bb488f887",
   "metadata": {},
   "outputs": [
    {
     "name": "stdout",
     "output_type": "stream",
     "text": [
      "0\n",
      "1\n",
      "1\n",
      "2\n",
      "3\n",
      "5\n",
      "8\n",
      "13\n",
      "21\n",
      "34\n"
     ]
    }
   ],
   "source": [
    "for i in range(10):\n",
    "    print(next(fn))"
   ]
  },
  {
   "cell_type": "code",
   "execution_count": 14,
   "id": "e7a2cb3d-0c19-4e63-8ca4-6fe5c03093f8",
   "metadata": {},
   "outputs": [],
   "source": [
    "#Q7. Write a List Comprehension to iterate through the given string: ‘pwskills’.\n",
    "#Expected output: ['p', 'w', 's', 'k', 'i', 'l', 'l', 's']"
   ]
  },
  {
   "cell_type": "code",
   "execution_count": 15,
   "id": "1e3bc6fd-7be6-43c3-a748-a00265fe138b",
   "metadata": {},
   "outputs": [],
   "source": [
    "s= 'pwskills'"
   ]
  },
  {
   "cell_type": "code",
   "execution_count": 20,
   "id": "d780c282-7b28-4261-9335-1abe01df0412",
   "metadata": {},
   "outputs": [
    {
     "data": {
      "text/plain": [
       "['p', 'w', 's', 'k', 'i', 'l', 'l', 's']"
      ]
     },
     "execution_count": 20,
     "metadata": {},
     "output_type": "execute_result"
    }
   ],
   "source": [
    "list(s)"
   ]
  },
  {
   "cell_type": "code",
   "execution_count": 18,
   "id": "5e9cadfa-fb04-45a6-aa9a-5e63e2332164",
   "metadata": {},
   "outputs": [
    {
     "data": {
      "text/plain": [
       "list[<str_iterator object at 0x7f8824135b40>]"
      ]
     },
     "execution_count": 18,
     "metadata": {},
     "output_type": "execute_result"
    }
   ],
   "source": [
    "list[iter(s)]"
   ]
  },
  {
   "cell_type": "code",
   "execution_count": 21,
   "id": "c9008631-e048-4ee9-b3a9-53681e1580b6",
   "metadata": {},
   "outputs": [],
   "source": [
    "#Q8. Write a python program to check whether a given number is Palindrome or not using a while loop."
   ]
  },
  {
   "cell_type": "code",
   "execution_count": 7,
   "id": "77a6ed2b-21aa-460a-9a60-2221cde62e63",
   "metadata": {},
   "outputs": [],
   "source": [
    "def palindrome(n):\n",
    "    temp= n\n",
    "    Sum = 0\n",
    "    \n",
    "    while n>0 :\n",
    "        r= n%10\n",
    "        Sum = (Sum*10)+r\n",
    "        n = n//10\n",
    "        \n",
    "    if temp ==Sum:\n",
    "        return True\n",
    "    else:\n",
    "        return False\n",
    "        \n",
    "    \n",
    "    "
   ]
  },
  {
   "cell_type": "code",
   "execution_count": 4,
   "id": "3fc2ea82-2a9c-4604-9c50-d97b9e5c1de6",
   "metadata": {},
   "outputs": [
    {
     "data": {
      "text/plain": [
       "False"
      ]
     },
     "execution_count": 4,
     "metadata": {},
     "output_type": "execute_result"
    }
   ],
   "source": [
    "palindrome(453)"
   ]
  },
  {
   "cell_type": "code",
   "execution_count": 8,
   "id": "023df89d-5a3c-4360-a02b-7da90ca74b48",
   "metadata": {},
   "outputs": [
    {
     "data": {
      "text/plain": [
       "True"
      ]
     },
     "execution_count": 8,
     "metadata": {},
     "output_type": "execute_result"
    }
   ],
   "source": [
    "palindrome(121)"
   ]
  },
  {
   "cell_type": "code",
   "execution_count": 9,
   "id": "9aa7e086-f464-4907-bed9-f90442264d11",
   "metadata": {},
   "outputs": [],
   "source": [
    "#Q9. Write a code to print odd numbers from 1 to 100 using list comprehension."
   ]
  },
  {
   "cell_type": "code",
   "execution_count": 14,
   "id": "c2e4d5ae-2d94-46b2-8928-68a1ebbf829e",
   "metadata": {},
   "outputs": [],
   "source": [
    "def odd_numbers(n):\n",
    "   \n",
    "    l=[]\n",
    "    \n",
    "    for i in range(n):\n",
    "        if\n",
    "        i%2!= 0\n",
    "        \n",
    "        l.append(i)\n",
    "        \n",
    "    print (l)     "
   ]
  },
  {
   "cell_type": "code",
   "execution_count": 15,
   "id": "7155d4dc-3c54-48a7-8b19-7055737a8538",
   "metadata": {},
   "outputs": [
    {
     "name": "stdout",
     "output_type": "stream",
     "text": [
      "[0, 1, 2, 3, 4, 5, 6, 7, 8, 9, 10, 11, 12, 13, 14, 15, 16, 17, 18, 19, 20, 21, 22, 23, 24, 25, 26, 27, 28, 29, 30, 31, 32, 33, 34, 35, 36, 37, 38, 39, 40, 41, 42, 43, 44, 45, 46, 47, 48, 49, 50, 51, 52, 53, 54, 55, 56, 57, 58, 59, 60, 61, 62, 63, 64, 65, 66, 67, 68, 69, 70, 71, 72, 73, 74, 75, 76, 77, 78, 79, 80, 81, 82, 83, 84, 85, 86, 87, 88, 89, 90, 91, 92, 93, 94, 95, 96, 97, 98, 99]\n"
     ]
    }
   ],
   "source": [
    "odd_numbers(100)"
   ]
  },
  {
   "cell_type": "code",
   "execution_count": null,
   "id": "2d118020-ccfc-4d1e-9e94-d1010d157c03",
   "metadata": {},
   "outputs": [],
   "source": []
  }
 ],
 "metadata": {
  "kernelspec": {
   "display_name": "Python 3 (ipykernel)",
   "language": "python",
   "name": "python3"
  },
  "language_info": {
   "codemirror_mode": {
    "name": "ipython",
    "version": 3
   },
   "file_extension": ".py",
   "mimetype": "text/x-python",
   "name": "python",
   "nbconvert_exporter": "python",
   "pygments_lexer": "ipython3",
   "version": "3.10.8"
  }
 },
 "nbformat": 4,
 "nbformat_minor": 5
}
