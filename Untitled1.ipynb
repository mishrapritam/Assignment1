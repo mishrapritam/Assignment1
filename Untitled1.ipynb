def Number():
    l1 = []
    l2 = []
    nums = [0, 1, 0, 3, 12, -7, 8]
    for i in nums:
        if i != 0:
            l1.append(i)
        else:
            l2.append(i)
    l1 = l1 + l2
    print(l1)
    
Number() 
