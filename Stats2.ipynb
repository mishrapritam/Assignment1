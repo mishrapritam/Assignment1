{
 "cells": [
  {
   "cell_type": "code",
   "execution_count": 1,
   "id": "4ea70cda-fe80-47d6-89b3-41ba3c00682d",
   "metadata": {},
   "outputs": [],
   "source": [
    "#Q1. What are the three measures of central tendency? "
   ]
  },
  {
   "cell_type": "code",
   "execution_count": 2,
   "id": "a843de65-a31d-4382-8e87-8ebe3a2fff02",
   "metadata": {},
   "outputs": [
    {
     "data": {
      "text/plain": [
       "'Three measures of central tendency are:\\n    1.Mean\\n    2.Median\\n    3.Mode'"
      ]
     },
     "execution_count": 2,
     "metadata": {},
     "output_type": "execute_result"
    }
   ],
   "source": [
    "\"\"\"Three measures of central tendency are:\n",
    "    1.Mean\n",
    "    2.Median\n",
    "    3.Mode\"\"\""
   ]
  },
  {
   "cell_type": "code",
   "execution_count": 3,
   "id": "51b4c3c3-1523-4091-806a-dc70ca9e75ea",
   "metadata": {},
   "outputs": [],
   "source": [
    "#Q2. What is the difference between the mean, median, and mode? How are they used to measure the  central tendency of a dataset?"
   ]
  },
  {
   "cell_type": "code",
   "execution_count": 4,
   "id": "5a5cd059-b247-43da-9696-b88692204e0b",
   "metadata": {},
   "outputs": [
    {
     "data": {
      "text/plain": [
       "'1.Mean- This is used for obtaining the average value present in a given data set.\\n\\nSalary= [10k,20k,30k,15k,50k,80k,100k,15k]\\n\\n   Mean= Total Salary/ Number of employees \\n    \\n    Mean= (10+20+30+15+50+80+100+15)k/8 =40K\\n    \\n2.Medain- It is used to find the central value in a data set. In case of even number of data points we use (n1+n2)/2, \\n    where n1 and n2 are central values. In case of odd its the middle value.\\n    \\n      \\n    Salary= [10k,15k,15k,20k,30k,50k,80k,100k]\\n    \\n    Median salary = (20k+30K)/2= 25 K\\n    \\n3.Mode- The value that appers more frequent in a dataset. It can be used for both quantitative and qualitative data.\\n    \\n    Mode Salary= 15K\\n    \\n    Using the above formula they are used to meausre the central tendency.'"
      ]
     },
     "execution_count": 4,
     "metadata": {},
     "output_type": "execute_result"
    }
   ],
   "source": [
    "\"\"\"1.Mean- This is used for obtaining the average value present in a given data set.\n",
    "\n",
    "Salary= [10k,20k,30k,15k,50k,80k,100k,15k]\n",
    "\n",
    "   Mean= Total Salary/ Number of employees \n",
    "    \n",
    "    Mean= (10+20+30+15+50+80+100+15)k/8 =40K\n",
    "    \n",
    "2.Medain- It is used to find the central value in a data set. In case of even number of data points we use (n1+n2)/2, \n",
    "    where n1 and n2 are central values. In case of odd its the middle value.\n",
    "    \n",
    "      \n",
    "    Salary= [10k,15k,15k,20k,30k,50k,80k,100k]\n",
    "    \n",
    "    Median salary = (20k+30K)/2= 25 K\n",
    "    \n",
    "3.Mode- The value that appers more frequent in a dataset. It can be used for both quantitative and qualitative data.\n",
    "    \n",
    "    Mode Salary= 15K\n",
    "    \n",
    "    Using the above formula they are used to meausre the central tendency.\"\"\"\n",
    "    \n",
    "    "
   ]
  },
  {
   "cell_type": "code",
   "execution_count": 8,
   "id": "915a391d-5d38-4a96-9014-70717fec06b3",
   "metadata": {},
   "outputs": [],
   "source": [
    "#Q3. Measure the three measures of central tendency for the given \n",
    "height_data= [178,177,176,177,178.2,178,175,179,180,175,178.9,176.2,177,172.5,178,176.5] "
   ]
  },
  {
   "cell_type": "code",
   "execution_count": 6,
   "id": "e8983514-a067-47b7-a665-1917bb657881",
   "metadata": {},
   "outputs": [],
   "source": [
    "import numpy as np"
   ]
  },
  {
   "cell_type": "code",
   "execution_count": 9,
   "id": "a9714383-9595-48b0-b270-6fcbe187d3b0",
   "metadata": {},
   "outputs": [
    {
     "data": {
      "text/plain": [
       "[178,\n",
       " 177,\n",
       " 176,\n",
       " 177,\n",
       " 178.2,\n",
       " 178,\n",
       " 175,\n",
       " 179,\n",
       " 180,\n",
       " 175,\n",
       " 178.9,\n",
       " 176.2,\n",
       " 177,\n",
       " 172.5,\n",
       " 178,\n",
       " 176.5]"
      ]
     },
     "execution_count": 9,
     "metadata": {},
     "output_type": "execute_result"
    }
   ],
   "source": [
    "height_data"
   ]
  },
  {
   "cell_type": "code",
   "execution_count": 11,
   "id": "e84ed94f-0562-4778-a296-725e9d8b3634",
   "metadata": {},
   "outputs": [
    {
     "data": {
      "text/plain": [
       "177.01875"
      ]
     },
     "execution_count": 11,
     "metadata": {},
     "output_type": "execute_result"
    }
   ],
   "source": [
    "np.mean(height_data)"
   ]
  },
  {
   "cell_type": "code",
   "execution_count": 12,
   "id": "7cdc8a6d-cc55-4da6-a9dc-cf85eddc5527",
   "metadata": {},
   "outputs": [
    {
     "data": {
      "text/plain": [
       "177.0"
      ]
     },
     "execution_count": 12,
     "metadata": {},
     "output_type": "execute_result"
    }
   ],
   "source": [
    "np.median(height_data)"
   ]
  },
  {
   "cell_type": "code",
   "execution_count": 13,
   "id": "3000046e-289a-4d3e-9044-ddf14ec9c06d",
   "metadata": {},
   "outputs": [],
   "source": [
    "from scipy import stats "
   ]
  },
  {
   "cell_type": "code",
   "execution_count": 14,
   "id": "bd5bfb07-b406-4da7-9afc-3bf3128c8f9e",
   "metadata": {},
   "outputs": [
    {
     "name": "stderr",
     "output_type": "stream",
     "text": [
      "/tmp/ipykernel_84/2661021712.py:1: FutureWarning: Unlike other reduction functions (e.g. `skew`, `kurtosis`), the default behavior of `mode` typically preserves the axis it acts along. In SciPy 1.11.0, this behavior will change: the default value of `keepdims` will become False, the `axis` over which the statistic is taken will be eliminated, and the value None will no longer be accepted. Set `keepdims` to True or False to avoid this warning.\n",
      "  stats.mode(height_data)\n"
     ]
    },
    {
     "data": {
      "text/plain": [
       "ModeResult(mode=array([177.]), count=array([3]))"
      ]
     },
     "execution_count": 14,
     "metadata": {},
     "output_type": "execute_result"
    }
   ],
   "source": [
    "stats.mode(height_data)"
   ]
  },
  {
   "cell_type": "code",
   "execution_count": 15,
   "id": "4754b9db-f9f8-4c48-baf4-3e25a36dbd1a",
   "metadata": {},
   "outputs": [],
   "source": [
    "#Q4. Find the standard deviation for the given data: \n",
    "#[178,177,176,177,178.2,178,175,179,180,175,178.9,176.2,177,172.5,178,176.5] \n"
   ]
  },
  {
   "cell_type": "code",
   "execution_count": 16,
   "id": "23427517-03df-4742-a5f8-cc3a26916229",
   "metadata": {},
   "outputs": [
    {
     "data": {
      "text/plain": [
       "1.7885814036548633"
      ]
     },
     "execution_count": 16,
     "metadata": {},
     "output_type": "execute_result"
    }
   ],
   "source": [
    "np.std(height_data)"
   ]
  },
  {
   "cell_type": "code",
   "execution_count": 17,
   "id": "9b80fa27-ddcb-41fa-8673-d7c67ddf2c64",
   "metadata": {},
   "outputs": [],
   "source": [
    "#Q5. How are measures of dispersion such as range, variance, and standard deviation used to describe  the spread of a dataset? \n",
    "#Provide an example. "
   ]
  },
  {
   "cell_type": "code",
   "execution_count": 19,
   "id": "ac7d899e-d7e7-40bd-8404-b5c93b073cfa",
   "metadata": {},
   "outputs": [],
   "source": [
    "import seaborn as sns"
   ]
  },
  {
   "cell_type": "code",
   "execution_count": 20,
   "id": "a0def87e-001a-471c-a6b8-d9d288117359",
   "metadata": {},
   "outputs": [],
   "source": [
    "df=sns.load_dataset(\"planets\")"
   ]
  },
  {
   "cell_type": "code",
   "execution_count": 21,
   "id": "7173d323-200f-48ad-abd6-3bb46b76aea5",
   "metadata": {},
   "outputs": [
    {
     "data": {
      "text/html": [
       "<div>\n",
       "<style scoped>\n",
       "    .dataframe tbody tr th:only-of-type {\n",
       "        vertical-align: middle;\n",
       "    }\n",
       "\n",
       "    .dataframe tbody tr th {\n",
       "        vertical-align: top;\n",
       "    }\n",
       "\n",
       "    .dataframe thead th {\n",
       "        text-align: right;\n",
       "    }\n",
       "</style>\n",
       "<table border=\"1\" class=\"dataframe\">\n",
       "  <thead>\n",
       "    <tr style=\"text-align: right;\">\n",
       "      <th></th>\n",
       "      <th>method</th>\n",
       "      <th>number</th>\n",
       "      <th>orbital_period</th>\n",
       "      <th>mass</th>\n",
       "      <th>distance</th>\n",
       "      <th>year</th>\n",
       "    </tr>\n",
       "  </thead>\n",
       "  <tbody>\n",
       "    <tr>\n",
       "      <th>0</th>\n",
       "      <td>Radial Velocity</td>\n",
       "      <td>1</td>\n",
       "      <td>269.300</td>\n",
       "      <td>7.10</td>\n",
       "      <td>77.40</td>\n",
       "      <td>2006</td>\n",
       "    </tr>\n",
       "    <tr>\n",
       "      <th>1</th>\n",
       "      <td>Radial Velocity</td>\n",
       "      <td>1</td>\n",
       "      <td>874.774</td>\n",
       "      <td>2.21</td>\n",
       "      <td>56.95</td>\n",
       "      <td>2008</td>\n",
       "    </tr>\n",
       "    <tr>\n",
       "      <th>2</th>\n",
       "      <td>Radial Velocity</td>\n",
       "      <td>1</td>\n",
       "      <td>763.000</td>\n",
       "      <td>2.60</td>\n",
       "      <td>19.84</td>\n",
       "      <td>2011</td>\n",
       "    </tr>\n",
       "    <tr>\n",
       "      <th>3</th>\n",
       "      <td>Radial Velocity</td>\n",
       "      <td>1</td>\n",
       "      <td>326.030</td>\n",
       "      <td>19.40</td>\n",
       "      <td>110.62</td>\n",
       "      <td>2007</td>\n",
       "    </tr>\n",
       "    <tr>\n",
       "      <th>4</th>\n",
       "      <td>Radial Velocity</td>\n",
       "      <td>1</td>\n",
       "      <td>516.220</td>\n",
       "      <td>10.50</td>\n",
       "      <td>119.47</td>\n",
       "      <td>2009</td>\n",
       "    </tr>\n",
       "  </tbody>\n",
       "</table>\n",
       "</div>"
      ],
      "text/plain": [
       "            method  number  orbital_period   mass  distance  year\n",
       "0  Radial Velocity       1         269.300   7.10     77.40  2006\n",
       "1  Radial Velocity       1         874.774   2.21     56.95  2008\n",
       "2  Radial Velocity       1         763.000   2.60     19.84  2011\n",
       "3  Radial Velocity       1         326.030  19.40    110.62  2007\n",
       "4  Radial Velocity       1         516.220  10.50    119.47  2009"
      ]
     },
     "execution_count": 21,
     "metadata": {},
     "output_type": "execute_result"
    }
   ],
   "source": [
    "df.head()"
   ]
  },
  {
   "cell_type": "code",
   "execution_count": 22,
   "id": "588b725d-6f21-41ba-87cc-2cbd98b09ca4",
   "metadata": {},
   "outputs": [
    {
     "name": "stderr",
     "output_type": "stream",
     "text": [
      "/tmp/ipykernel_84/1545644723.py:1: FutureWarning: The default value of numeric_only in DataFrame.cov is deprecated. In a future version, it will default to False. Select only valid columns or specify the value of numeric_only to silence this warning.\n",
      "  df.cov()\n"
     ]
    },
    {
     "data": {
      "text/html": [
       "<div>\n",
       "<style scoped>\n",
       "    .dataframe tbody tr th:only-of-type {\n",
       "        vertical-align: middle;\n",
       "    }\n",
       "\n",
       "    .dataframe tbody tr th {\n",
       "        vertical-align: top;\n",
       "    }\n",
       "\n",
       "    .dataframe thead th {\n",
       "        text-align: right;\n",
       "    }\n",
       "</style>\n",
       "<table border=\"1\" class=\"dataframe\">\n",
       "  <thead>\n",
       "    <tr style=\"text-align: right;\">\n",
       "      <th></th>\n",
       "      <th>number</th>\n",
       "      <th>orbital_period</th>\n",
       "      <th>mass</th>\n",
       "      <th>distance</th>\n",
       "      <th>year</th>\n",
       "    </tr>\n",
       "  </thead>\n",
       "  <tbody>\n",
       "    <tr>\n",
       "      <th>number</th>\n",
       "      <td>1.540022</td>\n",
       "      <td>-4.109673e+02</td>\n",
       "      <td>-1.073362</td>\n",
       "      <td>-31.780638</td>\n",
       "      <td>0.728876</td>\n",
       "    </tr>\n",
       "    <tr>\n",
       "      <th>orbital_period</th>\n",
       "      <td>-410.967320</td>\n",
       "      <td>6.767661e+08</td>\n",
       "      <td>1005.472594</td>\n",
       "      <td>-255305.071038</td>\n",
       "      <td>-3367.807803</td>\n",
       "    </tr>\n",
       "    <tr>\n",
       "      <th>mass</th>\n",
       "      <td>-1.073362</td>\n",
       "      <td>1.005473e+03</td>\n",
       "      <td>14.581833</td>\n",
       "      <td>46.439431</td>\n",
       "      <td>-1.963811</td>\n",
       "    </tr>\n",
       "    <tr>\n",
       "      <th>distance</th>\n",
       "      <td>-31.780638</td>\n",
       "      <td>-2.553051e+05</td>\n",
       "      <td>46.439431</td>\n",
       "      <td>537459.792221</td>\n",
       "      <td>517.198294</td>\n",
       "    </tr>\n",
       "    <tr>\n",
       "      <th>year</th>\n",
       "      <td>0.728876</td>\n",
       "      <td>-3.367808e+03</td>\n",
       "      <td>-1.963811</td>\n",
       "      <td>517.198294</td>\n",
       "      <td>15.781287</td>\n",
       "    </tr>\n",
       "  </tbody>\n",
       "</table>\n",
       "</div>"
      ],
      "text/plain": [
       "                    number  orbital_period         mass       distance  \\\n",
       "number            1.540022   -4.109673e+02    -1.073362     -31.780638   \n",
       "orbital_period -410.967320    6.767661e+08  1005.472594 -255305.071038   \n",
       "mass             -1.073362    1.005473e+03    14.581833      46.439431   \n",
       "distance        -31.780638   -2.553051e+05    46.439431  537459.792221   \n",
       "year              0.728876   -3.367808e+03    -1.963811     517.198294   \n",
       "\n",
       "                       year  \n",
       "number             0.728876  \n",
       "orbital_period -3367.807803  \n",
       "mass              -1.963811  \n",
       "distance         517.198294  \n",
       "year              15.781287  "
      ]
     },
     "execution_count": 22,
     "metadata": {},
     "output_type": "execute_result"
    }
   ],
   "source": [
    "#covariance- Helps in understanding the relationship between random variables as + and - covariance. (x&y)\n",
    "df.cov()   "
   ]
  },
  {
   "cell_type": "code",
   "execution_count": 36,
   "id": "9bd46249-a3dc-409a-bf3b-845b45c8850d",
   "metadata": {},
   "outputs": [
    {
     "name": "stderr",
     "output_type": "stream",
     "text": [
      "/tmp/ipykernel_84/3789947928.py:3: FutureWarning: The default value of numeric_only in DataFrame.corr is deprecated. In a future version, it will default to False. Select only valid columns or specify the value of numeric_only to silence this warning.\n",
      "  df.corr(\"pearson\")\n"
     ]
    },
    {
     "data": {
      "text/html": [
       "<div>\n",
       "<style scoped>\n",
       "    .dataframe tbody tr th:only-of-type {\n",
       "        vertical-align: middle;\n",
       "    }\n",
       "\n",
       "    .dataframe tbody tr th {\n",
       "        vertical-align: top;\n",
       "    }\n",
       "\n",
       "    .dataframe thead th {\n",
       "        text-align: right;\n",
       "    }\n",
       "</style>\n",
       "<table border=\"1\" class=\"dataframe\">\n",
       "  <thead>\n",
       "    <tr style=\"text-align: right;\">\n",
       "      <th></th>\n",
       "      <th>number</th>\n",
       "      <th>orbital_period</th>\n",
       "      <th>mass</th>\n",
       "      <th>distance</th>\n",
       "      <th>year</th>\n",
       "    </tr>\n",
       "  </thead>\n",
       "  <tbody>\n",
       "    <tr>\n",
       "      <th>number</th>\n",
       "      <td>1.000000</td>\n",
       "      <td>-0.012570</td>\n",
       "      <td>-0.241429</td>\n",
       "      <td>-0.033638</td>\n",
       "      <td>0.147849</td>\n",
       "    </tr>\n",
       "    <tr>\n",
       "      <th>orbital_period</th>\n",
       "      <td>-0.012570</td>\n",
       "      <td>1.000000</td>\n",
       "      <td>0.173725</td>\n",
       "      <td>-0.034365</td>\n",
       "      <td>-0.032333</td>\n",
       "    </tr>\n",
       "    <tr>\n",
       "      <th>mass</th>\n",
       "      <td>-0.241429</td>\n",
       "      <td>0.173725</td>\n",
       "      <td>1.000000</td>\n",
       "      <td>0.274082</td>\n",
       "      <td>-0.123787</td>\n",
       "    </tr>\n",
       "    <tr>\n",
       "      <th>distance</th>\n",
       "      <td>-0.033638</td>\n",
       "      <td>-0.034365</td>\n",
       "      <td>0.274082</td>\n",
       "      <td>1.000000</td>\n",
       "      <td>0.178922</td>\n",
       "    </tr>\n",
       "    <tr>\n",
       "      <th>year</th>\n",
       "      <td>0.147849</td>\n",
       "      <td>-0.032333</td>\n",
       "      <td>-0.123787</td>\n",
       "      <td>0.178922</td>\n",
       "      <td>1.000000</td>\n",
       "    </tr>\n",
       "  </tbody>\n",
       "</table>\n",
       "</div>"
      ],
      "text/plain": [
       "                  number  orbital_period      mass  distance      year\n",
       "number          1.000000       -0.012570 -0.241429 -0.033638  0.147849\n",
       "orbital_period -0.012570        1.000000  0.173725 -0.034365 -0.032333\n",
       "mass           -0.241429        0.173725  1.000000  0.274082 -0.123787\n",
       "distance       -0.033638       -0.034365  0.274082  1.000000  0.178922\n",
       "year            0.147849       -0.032333 -0.123787  0.178922  1.000000"
      ]
     },
     "execution_count": 36,
     "metadata": {},
     "output_type": "execute_result"
    }
   ],
   "source": [
    "#Pearson correlation- How the random varibles are related to each other can be indentified through this method.\n",
    "#The more closer to 1 the more positively correlated and vice-versa.\n",
    "df.corr(\"pearson\")"
   ]
  },
  {
   "cell_type": "code",
   "execution_count": 28,
   "id": "367f3a77-fe8d-4091-995c-f1585ad41556",
   "metadata": {},
   "outputs": [],
   "source": [
    "import numpy as np"
   ]
  },
  {
   "cell_type": "code",
   "execution_count": 29,
   "id": "9c69205f-cae0-4f23-ac29-a6f0de4b5e85",
   "metadata": {},
   "outputs": [
    {
     "data": {
      "text/plain": [
       "26001.61273564429"
      ]
     },
     "execution_count": 29,
     "metadata": {},
     "output_type": "execute_result"
    }
   ],
   "source": [
    "#standard_deviation- Shift of data from the mean value.\n",
    "np.std(df['orbital_period'])"
   ]
  },
  {
   "cell_type": "code",
   "execution_count": 30,
   "id": "04845700-58b2-4642-b3a7-4f4bb99ba641",
   "metadata": {},
   "outputs": [
    {
     "data": {
      "text/plain": [
       "3.814892986837594"
      ]
     },
     "execution_count": 30,
     "metadata": {},
     "output_type": "execute_result"
    }
   ],
   "source": [
    "np.std(df['mass'])"
   ]
  },
  {
   "cell_type": "code",
   "execution_count": 31,
   "id": "ba0b2ae7-614e-49c1-bbd1-3e2c3b07c157",
   "metadata": {},
   "outputs": [
    {
     "data": {
      "text/plain": [
       "732.6626912919195"
      ]
     },
     "execution_count": 31,
     "metadata": {},
     "output_type": "execute_result"
    }
   ],
   "source": [
    "np.std(df['distance'])"
   ]
  },
  {
   "cell_type": "code",
   "execution_count": 32,
   "id": "0b8466bc-a947-4d5f-9f75-59faa24c4384",
   "metadata": {},
   "outputs": [
    {
     "data": {
      "text/plain": [
       "3.9706472790001652"
      ]
     },
     "execution_count": 32,
     "metadata": {},
     "output_type": "execute_result"
    }
   ],
   "source": [
    "np.std(df['year'])"
   ]
  },
  {
   "cell_type": "code",
   "execution_count": 33,
   "id": "bd91af57-3b42-4dda-a4ef-ce967b9ca00a",
   "metadata": {},
   "outputs": [
    {
     "data": {
      "text/plain": [
       "2009.0705314009663"
      ]
     },
     "execution_count": 33,
     "metadata": {},
     "output_type": "execute_result"
    }
   ],
   "source": [
    "np.mean(df['year'])"
   ]
  },
  {
   "cell_type": "code",
   "execution_count": 35,
   "id": "a82d1804-f101-49f8-be32-14fa353e6a09",
   "metadata": {},
   "outputs": [],
   "source": [
    "#Majority(68%) of the data lies between year 2009 +- 3.9 years. We can say this by using standard deviation.\n",
    "#95% data lies between 2009 +- (2*3.9) Years and 99.7 % data lies between 2009 +- (3*3.9) Years"
   ]
  },
  {
   "cell_type": "code",
   "execution_count": 37,
   "id": "307c762e-ad72-4b79-949a-18b65d35708e",
   "metadata": {},
   "outputs": [
    {
     "name": "stderr",
     "output_type": "stream",
     "text": [
      "/tmp/ipykernel_84/2200192389.py:1: FutureWarning: The default value of numeric_only in DataFrame.corr is deprecated. In a future version, it will default to False. Select only valid columns or specify the value of numeric_only to silence this warning.\n",
      "  df.corr(\"spearman\")\n"
     ]
    },
    {
     "data": {
      "text/html": [
       "<div>\n",
       "<style scoped>\n",
       "    .dataframe tbody tr th:only-of-type {\n",
       "        vertical-align: middle;\n",
       "    }\n",
       "\n",
       "    .dataframe tbody tr th {\n",
       "        vertical-align: top;\n",
       "    }\n",
       "\n",
       "    .dataframe thead th {\n",
       "        text-align: right;\n",
       "    }\n",
       "</style>\n",
       "<table border=\"1\" class=\"dataframe\">\n",
       "  <thead>\n",
       "    <tr style=\"text-align: right;\">\n",
       "      <th></th>\n",
       "      <th>number</th>\n",
       "      <th>orbital_period</th>\n",
       "      <th>mass</th>\n",
       "      <th>distance</th>\n",
       "      <th>year</th>\n",
       "    </tr>\n",
       "  </thead>\n",
       "  <tbody>\n",
       "    <tr>\n",
       "      <th>number</th>\n",
       "      <td>1.000000</td>\n",
       "      <td>0.036842</td>\n",
       "      <td>-0.401909</td>\n",
       "      <td>-0.209278</td>\n",
       "      <td>0.247716</td>\n",
       "    </tr>\n",
       "    <tr>\n",
       "      <th>orbital_period</th>\n",
       "      <td>0.036842</td>\n",
       "      <td>1.000000</td>\n",
       "      <td>0.542234</td>\n",
       "      <td>-0.373384</td>\n",
       "      <td>-0.223256</td>\n",
       "    </tr>\n",
       "    <tr>\n",
       "      <th>mass</th>\n",
       "      <td>-0.401909</td>\n",
       "      <td>0.542234</td>\n",
       "      <td>1.000000</td>\n",
       "      <td>0.467621</td>\n",
       "      <td>-0.265991</td>\n",
       "    </tr>\n",
       "    <tr>\n",
       "      <th>distance</th>\n",
       "      <td>-0.209278</td>\n",
       "      <td>-0.373384</td>\n",
       "      <td>0.467621</td>\n",
       "      <td>1.000000</td>\n",
       "      <td>0.370235</td>\n",
       "    </tr>\n",
       "    <tr>\n",
       "      <th>year</th>\n",
       "      <td>0.247716</td>\n",
       "      <td>-0.223256</td>\n",
       "      <td>-0.265991</td>\n",
       "      <td>0.370235</td>\n",
       "      <td>1.000000</td>\n",
       "    </tr>\n",
       "  </tbody>\n",
       "</table>\n",
       "</div>"
      ],
      "text/plain": [
       "                  number  orbital_period      mass  distance      year\n",
       "number          1.000000        0.036842 -0.401909 -0.209278  0.247716\n",
       "orbital_period  0.036842        1.000000  0.542234 -0.373384 -0.223256\n",
       "mass           -0.401909        0.542234  1.000000  0.467621 -0.265991\n",
       "distance       -0.209278       -0.373384  0.467621  1.000000  0.370235\n",
       "year            0.247716       -0.223256 -0.265991  0.370235  1.000000"
      ]
     },
     "execution_count": 37,
     "metadata": {},
     "output_type": "execute_result"
    }
   ],
   "source": [
    "#Spearman correlation- How the random varibles are related to each other can be indentified through this method. \n",
    "#In this method we basically rank the data based on the value. Highest value will be ranked as 1 as the rest in ascending order.\n",
    "df.corr(\"spearman\")"
   ]
  },
  {
   "cell_type": "code",
   "execution_count": 38,
   "id": "bae7a1a2-d782-44be-b52d-400277b08c3a",
   "metadata": {},
   "outputs": [],
   "source": [
    "#From the above data we can identify that orbital_period & year are positively co-related with number, mass & distance are negatively \n",
    "# correlated with numbers. This input will help us in identifying the feature for futher ml model."
   ]
  },
  {
   "cell_type": "code",
   "execution_count": 39,
   "id": "3cd2a164-f5d6-4081-aa9f-46b50882380a",
   "metadata": {},
   "outputs": [],
   "source": [
    "#Q6. What is a Venn diagram? "
   ]
  },
  {
   "cell_type": "code",
   "execution_count": 40,
   "id": "54826233-5d0a-4d72-adcb-ad3873308af0",
   "metadata": {},
   "outputs": [],
   "source": [
    "# Venn diagram is basically a pictorial representation of data present in a set."
   ]
  },
  {
   "cell_type": "code",
   "execution_count": 41,
   "id": "6ca5fa6c-9028-40bf-87e9-8edabff349b5",
   "metadata": {},
   "outputs": [],
   "source": [
    "#Q7. For the two given sets A = (2,3,4,5,6,7) & B = (0,2,6,8,10). Find: \n",
    "#(i)  A B -(0,6,24,40,60,0)\n",
    "#(ii) A ⋃ B -(0,2,3,4,5,6,7,8,10)\n"
   ]
  },
  {
   "cell_type": "code",
   "execution_count": 42,
   "id": "bc14c8f2-8f96-4855-9d6f-c8a491e0a0e4",
   "metadata": {},
   "outputs": [],
   "source": [
    "#Q8. What do you understand about skewness in data? "
   ]
  },
  {
   "cell_type": "code",
   "execution_count": 44,
   "id": "9d0eb322-cf4e-4440-af27-0df81086eb62",
   "metadata": {},
   "outputs": [
    {
     "data": {
      "text/plain": [
       "'Skewness- Mesure of asymmetry. It indicates whether the data is concentrated in one side.\\nIt also tells us where the data is situated. There are basically two types of skewness:\\n1. Right skewness or positive skewness(mean> median > mode)\\n2. Left skewness or negative skewness(mean< median< mode)'"
      ]
     },
     "execution_count": 44,
     "metadata": {},
     "output_type": "execute_result"
    }
   ],
   "source": [
    "\"\"\"Skewness- Mesure of asymmetry. It indicates whether the data is concentrated in one side.\n",
    "It also tells us where the data is situated. There are basically two types of skewness:\n",
    "1. Right skewness or positive skewness(mean> median > mode)\n",
    "2. Left skewness or negative skewness(mean< median< mode)\"\"\"\n"
   ]
  },
  {
   "cell_type": "code",
   "execution_count": 45,
   "id": "9daa0a3a-411d-4668-ad14-d852ff563e7b",
   "metadata": {},
   "outputs": [],
   "source": [
    "#Q9. If a data is right skewed then what will be the position of median with respect to mean? "
   ]
  },
  {
   "cell_type": "code",
   "execution_count": 46,
   "id": "27002aa8-fd39-43da-a438-d589be21c954",
   "metadata": {},
   "outputs": [],
   "source": [
    "#Position os mean > median in right skewed data."
   ]
  },
  {
   "cell_type": "code",
   "execution_count": 47,
   "id": "2010ddd6-c8ab-403c-b9ba-eb9c908c6901",
   "metadata": {},
   "outputs": [],
   "source": [
    "#Q10. Explain the difference between covariance and correlation. How are these measures used in  statistical analysis? "
   ]
  },
  {
   "cell_type": "code",
   "execution_count": 48,
   "id": "a436390e-489d-4779-bc58-c6c12c25dcc1",
   "metadata": {},
   "outputs": [],
   "source": [
    "#Covariance- Helps in understanding the relationship between random variables as + and - covariance. (x&y)\n",
    "#+ ve covariance represent x is directly proportional to y.\n",
    "#-ve covarience represent x is inversly proportionla to y.\n",
    "# The disadvantage here is it does not have a specific limit value."
   ]
  },
  {
   "cell_type": "code",
   "execution_count": 49,
   "id": "680810ca-f7ac-4554-9f02-42aaa70b0a69",
   "metadata": {},
   "outputs": [
    {
     "name": "stderr",
     "output_type": "stream",
     "text": [
      "/tmp/ipykernel_84/1545644723.py:1: FutureWarning: The default value of numeric_only in DataFrame.cov is deprecated. In a future version, it will default to False. Select only valid columns or specify the value of numeric_only to silence this warning.\n",
      "  df.cov()\n"
     ]
    },
    {
     "data": {
      "text/html": [
       "<div>\n",
       "<style scoped>\n",
       "    .dataframe tbody tr th:only-of-type {\n",
       "        vertical-align: middle;\n",
       "    }\n",
       "\n",
       "    .dataframe tbody tr th {\n",
       "        vertical-align: top;\n",
       "    }\n",
       "\n",
       "    .dataframe thead th {\n",
       "        text-align: right;\n",
       "    }\n",
       "</style>\n",
       "<table border=\"1\" class=\"dataframe\">\n",
       "  <thead>\n",
       "    <tr style=\"text-align: right;\">\n",
       "      <th></th>\n",
       "      <th>number</th>\n",
       "      <th>orbital_period</th>\n",
       "      <th>mass</th>\n",
       "      <th>distance</th>\n",
       "      <th>year</th>\n",
       "    </tr>\n",
       "  </thead>\n",
       "  <tbody>\n",
       "    <tr>\n",
       "      <th>number</th>\n",
       "      <td>1.540022</td>\n",
       "      <td>-4.109673e+02</td>\n",
       "      <td>-1.073362</td>\n",
       "      <td>-31.780638</td>\n",
       "      <td>0.728876</td>\n",
       "    </tr>\n",
       "    <tr>\n",
       "      <th>orbital_period</th>\n",
       "      <td>-410.967320</td>\n",
       "      <td>6.767661e+08</td>\n",
       "      <td>1005.472594</td>\n",
       "      <td>-255305.071038</td>\n",
       "      <td>-3367.807803</td>\n",
       "    </tr>\n",
       "    <tr>\n",
       "      <th>mass</th>\n",
       "      <td>-1.073362</td>\n",
       "      <td>1.005473e+03</td>\n",
       "      <td>14.581833</td>\n",
       "      <td>46.439431</td>\n",
       "      <td>-1.963811</td>\n",
       "    </tr>\n",
       "    <tr>\n",
       "      <th>distance</th>\n",
       "      <td>-31.780638</td>\n",
       "      <td>-2.553051e+05</td>\n",
       "      <td>46.439431</td>\n",
       "      <td>537459.792221</td>\n",
       "      <td>517.198294</td>\n",
       "    </tr>\n",
       "    <tr>\n",
       "      <th>year</th>\n",
       "      <td>0.728876</td>\n",
       "      <td>-3.367808e+03</td>\n",
       "      <td>-1.963811</td>\n",
       "      <td>517.198294</td>\n",
       "      <td>15.781287</td>\n",
       "    </tr>\n",
       "  </tbody>\n",
       "</table>\n",
       "</div>"
      ],
      "text/plain": [
       "                    number  orbital_period         mass       distance  \\\n",
       "number            1.540022   -4.109673e+02    -1.073362     -31.780638   \n",
       "orbital_period -410.967320    6.767661e+08  1005.472594 -255305.071038   \n",
       "mass             -1.073362    1.005473e+03    14.581833      46.439431   \n",
       "distance        -31.780638   -2.553051e+05    46.439431  537459.792221   \n",
       "year              0.728876   -3.367808e+03    -1.963811     517.198294   \n",
       "\n",
       "                       year  \n",
       "number             0.728876  \n",
       "orbital_period -3367.807803  \n",
       "mass              -1.963811  \n",
       "distance         517.198294  \n",
       "year              15.781287  "
      ]
     },
     "execution_count": 49,
     "metadata": {},
     "output_type": "execute_result"
    }
   ],
   "source": [
    "df.cov()"
   ]
  },
  {
   "cell_type": "code",
   "execution_count": 51,
   "id": "466f4f69-05ee-4dde-a428-a9a654935bf4",
   "metadata": {},
   "outputs": [
    {
     "name": "stderr",
     "output_type": "stream",
     "text": [
      "/tmp/ipykernel_84/3959958867.py:8: FutureWarning: The default value of numeric_only in DataFrame.corr is deprecated. In a future version, it will default to False. Select only valid columns or specify the value of numeric_only to silence this warning.\n",
      "  df.corr(\"pearson\")\n"
     ]
    },
    {
     "data": {
      "text/html": [
       "<div>\n",
       "<style scoped>\n",
       "    .dataframe tbody tr th:only-of-type {\n",
       "        vertical-align: middle;\n",
       "    }\n",
       "\n",
       "    .dataframe tbody tr th {\n",
       "        vertical-align: top;\n",
       "    }\n",
       "\n",
       "    .dataframe thead th {\n",
       "        text-align: right;\n",
       "    }\n",
       "</style>\n",
       "<table border=\"1\" class=\"dataframe\">\n",
       "  <thead>\n",
       "    <tr style=\"text-align: right;\">\n",
       "      <th></th>\n",
       "      <th>number</th>\n",
       "      <th>orbital_period</th>\n",
       "      <th>mass</th>\n",
       "      <th>distance</th>\n",
       "      <th>year</th>\n",
       "    </tr>\n",
       "  </thead>\n",
       "  <tbody>\n",
       "    <tr>\n",
       "      <th>number</th>\n",
       "      <td>1.000000</td>\n",
       "      <td>-0.012570</td>\n",
       "      <td>-0.241429</td>\n",
       "      <td>-0.033638</td>\n",
       "      <td>0.147849</td>\n",
       "    </tr>\n",
       "    <tr>\n",
       "      <th>orbital_period</th>\n",
       "      <td>-0.012570</td>\n",
       "      <td>1.000000</td>\n",
       "      <td>0.173725</td>\n",
       "      <td>-0.034365</td>\n",
       "      <td>-0.032333</td>\n",
       "    </tr>\n",
       "    <tr>\n",
       "      <th>mass</th>\n",
       "      <td>-0.241429</td>\n",
       "      <td>0.173725</td>\n",
       "      <td>1.000000</td>\n",
       "      <td>0.274082</td>\n",
       "      <td>-0.123787</td>\n",
       "    </tr>\n",
       "    <tr>\n",
       "      <th>distance</th>\n",
       "      <td>-0.033638</td>\n",
       "      <td>-0.034365</td>\n",
       "      <td>0.274082</td>\n",
       "      <td>1.000000</td>\n",
       "      <td>0.178922</td>\n",
       "    </tr>\n",
       "    <tr>\n",
       "      <th>year</th>\n",
       "      <td>0.147849</td>\n",
       "      <td>-0.032333</td>\n",
       "      <td>-0.123787</td>\n",
       "      <td>0.178922</td>\n",
       "      <td>1.000000</td>\n",
       "    </tr>\n",
       "  </tbody>\n",
       "</table>\n",
       "</div>"
      ],
      "text/plain": [
       "                  number  orbital_period      mass  distance      year\n",
       "number          1.000000       -0.012570 -0.241429 -0.033638  0.147849\n",
       "orbital_period -0.012570        1.000000  0.173725 -0.034365 -0.032333\n",
       "mass           -0.241429        0.173725  1.000000  0.274082 -0.123787\n",
       "distance       -0.033638       -0.034365  0.274082  1.000000  0.178922\n",
       "year            0.147849       -0.032333 -0.123787  0.178922  1.000000"
      ]
     },
     "execution_count": 51,
     "metadata": {},
     "output_type": "execute_result"
    }
   ],
   "source": [
    "#Correlation- In this the range is specified between -1 and 1.\n",
    "\n",
    "#Pearson correlation- How the random varibles are related to each other can be indentified through this method.\n",
    "#The more closer to 1 the more positively correlated and vice-versa.\n",
    "\n",
    "#Spearman correlation- How the random varibles are related to each other can be indentified through this method. \n",
    "#In this method we basically rank the data based on the value. Highest value will be ranked as 1 as the rest in ascending order.\n",
    "df.corr(\"pearson\")"
   ]
  },
  {
   "cell_type": "code",
   "execution_count": 52,
   "id": "2119233b-d83e-4901-a92c-d031a3e0f6c1",
   "metadata": {},
   "outputs": [
    {
     "name": "stderr",
     "output_type": "stream",
     "text": [
      "/tmp/ipykernel_84/2200192389.py:1: FutureWarning: The default value of numeric_only in DataFrame.corr is deprecated. In a future version, it will default to False. Select only valid columns or specify the value of numeric_only to silence this warning.\n",
      "  df.corr(\"spearman\")\n"
     ]
    },
    {
     "data": {
      "text/html": [
       "<div>\n",
       "<style scoped>\n",
       "    .dataframe tbody tr th:only-of-type {\n",
       "        vertical-align: middle;\n",
       "    }\n",
       "\n",
       "    .dataframe tbody tr th {\n",
       "        vertical-align: top;\n",
       "    }\n",
       "\n",
       "    .dataframe thead th {\n",
       "        text-align: right;\n",
       "    }\n",
       "</style>\n",
       "<table border=\"1\" class=\"dataframe\">\n",
       "  <thead>\n",
       "    <tr style=\"text-align: right;\">\n",
       "      <th></th>\n",
       "      <th>number</th>\n",
       "      <th>orbital_period</th>\n",
       "      <th>mass</th>\n",
       "      <th>distance</th>\n",
       "      <th>year</th>\n",
       "    </tr>\n",
       "  </thead>\n",
       "  <tbody>\n",
       "    <tr>\n",
       "      <th>number</th>\n",
       "      <td>1.000000</td>\n",
       "      <td>0.036842</td>\n",
       "      <td>-0.401909</td>\n",
       "      <td>-0.209278</td>\n",
       "      <td>0.247716</td>\n",
       "    </tr>\n",
       "    <tr>\n",
       "      <th>orbital_period</th>\n",
       "      <td>0.036842</td>\n",
       "      <td>1.000000</td>\n",
       "      <td>0.542234</td>\n",
       "      <td>-0.373384</td>\n",
       "      <td>-0.223256</td>\n",
       "    </tr>\n",
       "    <tr>\n",
       "      <th>mass</th>\n",
       "      <td>-0.401909</td>\n",
       "      <td>0.542234</td>\n",
       "      <td>1.000000</td>\n",
       "      <td>0.467621</td>\n",
       "      <td>-0.265991</td>\n",
       "    </tr>\n",
       "    <tr>\n",
       "      <th>distance</th>\n",
       "      <td>-0.209278</td>\n",
       "      <td>-0.373384</td>\n",
       "      <td>0.467621</td>\n",
       "      <td>1.000000</td>\n",
       "      <td>0.370235</td>\n",
       "    </tr>\n",
       "    <tr>\n",
       "      <th>year</th>\n",
       "      <td>0.247716</td>\n",
       "      <td>-0.223256</td>\n",
       "      <td>-0.265991</td>\n",
       "      <td>0.370235</td>\n",
       "      <td>1.000000</td>\n",
       "    </tr>\n",
       "  </tbody>\n",
       "</table>\n",
       "</div>"
      ],
      "text/plain": [
       "                  number  orbital_period      mass  distance      year\n",
       "number          1.000000        0.036842 -0.401909 -0.209278  0.247716\n",
       "orbital_period  0.036842        1.000000  0.542234 -0.373384 -0.223256\n",
       "mass           -0.401909        0.542234  1.000000  0.467621 -0.265991\n",
       "distance       -0.209278       -0.373384  0.467621  1.000000  0.370235\n",
       "year            0.247716       -0.223256 -0.265991  0.370235  1.000000"
      ]
     },
     "execution_count": 52,
     "metadata": {},
     "output_type": "execute_result"
    }
   ],
   "source": [
    "df.corr(\"spearman\")"
   ]
  },
  {
   "cell_type": "code",
   "execution_count": 53,
   "id": "a5a56e38-631a-4574-8230-fbe75f872441",
   "metadata": {},
   "outputs": [],
   "source": [
    "#Q11. What is the formula for calculating the sample mean? Provide an example calculation for a  dataset. "
   ]
  },
  {
   "cell_type": "code",
   "execution_count": 54,
   "id": "4310157b-4451-449f-96a6-84ec7a010500",
   "metadata": {},
   "outputs": [],
   "source": [
    "#Sample_mean= Total_Sample_population/ total_no_of_sample_observation"
   ]
  },
  {
   "cell_type": "code",
   "execution_count": 55,
   "id": "c1379e13-b61c-47d6-b1f0-b390099ae49d",
   "metadata": {},
   "outputs": [],
   "source": [
    "sample_data= [2,4,6,8]"
   ]
  },
  {
   "cell_type": "code",
   "execution_count": 56,
   "id": "a29e0b37-cc9b-493a-83ee-4bab7f507348",
   "metadata": {},
   "outputs": [],
   "source": [
    "sample_mean= (2+4+6+8)/4"
   ]
  },
  {
   "cell_type": "code",
   "execution_count": 57,
   "id": "1e700f57-fd16-4828-ab1c-e6b95d88d00d",
   "metadata": {},
   "outputs": [
    {
     "data": {
      "text/plain": [
       "5.0"
      ]
     },
     "execution_count": 57,
     "metadata": {},
     "output_type": "execute_result"
    }
   ],
   "source": [
    "sample_mean"
   ]
  },
  {
   "cell_type": "code",
   "execution_count": 58,
   "id": "97774ed3-6782-43d6-8f02-57e63e78266b",
   "metadata": {},
   "outputs": [],
   "source": [
    "#Q12. For a normal distribution data what is the relationship between its measure of central tendency? \n"
   ]
  },
  {
   "cell_type": "code",
   "execution_count": 59,
   "id": "efaff08a-28b9-4484-80f2-047393f27045",
   "metadata": {},
   "outputs": [],
   "source": [
    "#For a normal distribution mean=median= mode "
   ]
  },
  {
   "cell_type": "code",
   "execution_count": 60,
   "id": "606dcb3c-364f-4fa1-a3cd-0e1f62d22ba5",
   "metadata": {},
   "outputs": [],
   "source": [
    "#13. How is covariance different from correlation? \n",
    "\n",
    "#Covariance is diffrent form correlation as in correlation we have a defnite range from -1 to 1 but in covariance it is not specified."
   ]
  },
  {
   "cell_type": "code",
   "execution_count": 61,
   "id": "6c935c73-b5f8-4446-a8e9-5bab6b60d6a5",
   "metadata": {},
   "outputs": [],
   "source": [
    "#Q14. How do outliers affect measures of central tendency and dispersion? Provide an example. "
   ]
  },
  {
   "cell_type": "code",
   "execution_count": 62,
   "id": "cf53fa6b-96e1-453e-9c39-617bcae5ed4e",
   "metadata": {},
   "outputs": [
    {
     "data": {
      "text/plain": [
       "\"Outliers can have a significant impact on measures of central tendency (such as mean, median, and mode) and measures of dispersion (such as range, variance, and standard deviation). Outliers are data points that significantly deviate from the majority of the data points in a dataset.\\n\\nThe effect of outliers on measures of central tendency:\\n\\nMean: Outliers can heavily influence the mean because it takes into account the value of each data point. Even a single extreme outlier can greatly shift the mean towards its direction. For example, consider a dataset of salaries: {40, 45, 50, 55, 60, 1000}. The outlier value of 1000 significantly increases the mean, making it less representative of the majority of the data.\\n\\nMedian: Outliers have less impact on the median as it represents the middle value of a dataset when arranged in ascending or descending order. If an outlier is significantly larger or smaller than the rest of the data, it will not affect the median as much as it does the mean.\\n\\nMode: Outliers generally do not affect the mode since it represents the most frequently occurring value(s) in the dataset. Outliers that occur infrequently or are unique will not impact the mode.\\n\\nThe effect of outliers on measures of dispersion:\\n\\nRange: Outliers have a direct impact on the range, which is the difference between the maximum and minimum values in a dataset. An outlier with an extreme value can significantly increase or decrease the range, expanding the spread of the data.\\n\\nVariance and Standard Deviation: Outliers can heavily influence these measures of dispersion because they involve calculating the squared differences between each data point and the mean. Since outliers can have large deviations from the mean, squaring these deviations magnifies their effect on variance and standard deviation. This makes these measures sensitive to outliers.\\n\\nFor example, consider a dataset of test scores: {85, 88, 92, 90, 95, 30}. The outlier value of 30 will greatly increase the variance and standard deviation, reflecting the increased spread caused by the outlier.\\n\\nIt's important to be aware of the presence of outliers in a dataset as they can distort the interpretation of measures of central tendency and dispersion. Outliers may indicate data entry errors, measurement errors, or genuinely exceptional observations. In some cases, it might be necessary to identify and handle outliers appropriately by either removing them if they are erroneous or analyzing them separately if they represent meaningful information.\""
      ]
     },
     "execution_count": 62,
     "metadata": {},
     "output_type": "execute_result"
    }
   ],
   "source": [
    "\"\"\"Outliers can have a significant impact on measures of central tendency (such as mean, median, and mode) and measures of dispersion (such as range, variance, and standard deviation). Outliers are data points that significantly deviate from the majority of the data points in a dataset.\n",
    "\n",
    "The effect of outliers on measures of central tendency:\n",
    "\n",
    "Mean: Outliers can heavily influence the mean because it takes into account the value of each data point. Even a single extreme outlier can greatly shift the mean towards its direction. For example, consider a dataset of salaries: {40, 45, 50, 55, 60, 1000}. The outlier value of 1000 significantly increases the mean, making it less representative of the majority of the data.\n",
    "\n",
    "Median: Outliers have less impact on the median as it represents the middle value of a dataset when arranged in ascending or descending order. If an outlier is significantly larger or smaller than the rest of the data, it will not affect the median as much as it does the mean.\n",
    "\n",
    "Mode: Outliers generally do not affect the mode since it represents the most frequently occurring value(s) in the dataset. Outliers that occur infrequently or are unique will not impact the mode.\n",
    "\n",
    "The effect of outliers on measures of dispersion:\n",
    "\n",
    "Range: Outliers have a direct impact on the range, which is the difference between the maximum and minimum values in a dataset. An outlier with an extreme value can significantly increase or decrease the range, expanding the spread of the data.\n",
    "\n",
    "Variance and Standard Deviation: Outliers can heavily influence these measures of dispersion because they involve calculating the squared differences between each data point and the mean. Since outliers can have large deviations from the mean, squaring these deviations magnifies their effect on variance and standard deviation. This makes these measures sensitive to outliers.\n",
    "\n",
    "For example, consider a dataset of test scores: {85, 88, 92, 90, 95, 30}. The outlier value of 30 will greatly increase the variance and standard deviation, reflecting the increased spread caused by the outlier.\n",
    "\n",
    "It's important to be aware of the presence of outliers in a dataset as they can distort the interpretation of measures of central tendency and dispersion. Outliers may indicate data entry errors, measurement errors, or genuinely exceptional observations. In some cases, it might be necessary to identify and handle outliers appropriately by either removing them if they are erroneous or analyzing them separately if they represent meaningful information.\"\"\"\n",
    "\n",
    "\n",
    "\n",
    "\n",
    "\n"
   ]
  },
  {
   "cell_type": "code",
   "execution_count": null,
   "id": "fa1b2649-7912-4bba-8a14-37d8cf1bad0c",
   "metadata": {},
   "outputs": [],
   "source": []
  }
 ],
 "metadata": {
  "kernelspec": {
   "display_name": "Python 3 (ipykernel)",
   "language": "python",
   "name": "python3"
  },
  "language_info": {
   "codemirror_mode": {
    "name": "ipython",
    "version": 3
   },
   "file_extension": ".py",
   "mimetype": "text/x-python",
   "name": "python",
   "nbconvert_exporter": "python",
   "pygments_lexer": "ipython3",
   "version": "3.10.8"
  }
 },
 "nbformat": 4,
 "nbformat_minor": 5
}
