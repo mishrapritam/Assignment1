{
 "cells": [
  {
   "cell_type": "code",
   "execution_count": null,
   "id": "896be618-6bec-48d7-a730-7b542d0f99a6",
   "metadata": {},
   "outputs": [],
   "source": [
    "#How do you comment code in Python? What are the different types of comments?"
   ]
  },
  {
   "cell_type": "code",
   "execution_count": 2,
   "id": "c1c8f6d1-0b1d-48cd-b7f4-f0ebe23b1813",
   "metadata": {},
   "outputs": [
    {
     "ename": "SyntaxError",
     "evalue": "invalid syntax (2599477585.py, line 1)",
     "output_type": "error",
     "traceback": [
      "\u001b[0;36m  Cell \u001b[0;32mIn[2], line 1\u001b[0;36m\u001b[0m\n\u001b[0;31m    We can write a comment in python using #(hashtag) or \"\"\" (triple double inverted comma). If we are using single line of comment\u001b[0m\n\u001b[0m       ^\u001b[0m\n\u001b[0;31mSyntaxError\u001b[0m\u001b[0;31m:\u001b[0m invalid syntax\n"
     ]
    }
   ],
   "source": [
    "We can write a comment in python using #(hashtag), ## or \"\"\" (triple double inverted comma). If we are using single line of comment \n",
    "than is advisable to use # else we can also use \"\"\" for multiple lines of comment which is usually a part of string.\n",
    "\n",
    "Differnt types of comment are :\n",
    "    1. Single-line comment (#,##)\n",
    "    2. Multi-line comment (\"\"\"_\"\"\")\n"
   ]
  },
  {
   "cell_type": "code",
   "execution_count": 3,
   "id": "161528a9-ee6e-4108-ba76-c83955924042",
   "metadata": {},
   "outputs": [
    {
     "data": {
      "text/plain": [
       "\" Variables in python can contain any value that is being assingned to them and after storing the value\\nonce in the variable we can use it as many times as we want , till the we don't assign any other value to it.\\nFor assigning value to variable we use \""
      ]
     },
     "execution_count": 3,
     "metadata": {},
     "output_type": "execute_result"
    }
   ],
   "source": [
    "\"\"\" Variables in python can contain any value that is being assingned to them and after storing the value\n",
    "once in the variable we can use it as many times as we want , till the we don't assign any other value to it.\n",
    "For assigning value to variable we use \"\"\"\n",
    "\n"
   ]
  },
  {
   "cell_type": "code",
   "execution_count": 4,
   "id": "6ef0afe3-fb26-491c-bf11-514774c5640a",
   "metadata": {},
   "outputs": [],
   "source": [
    "a= \"Pritam\" # a variable containing value Pritam with data type string\n",
    "b= 98 # b variable containing value 98 with data type integer"
   ]
  },
  {
   "cell_type": "code",
   "execution_count": 5,
   "id": "4764b345-8d50-45cf-86e2-f852e091cf25",
   "metadata": {},
   "outputs": [],
   "source": [
    "#How do you convert one data type to another in Python?"
   ]
  },
  {
   "cell_type": "code",
   "execution_count": 6,
   "id": "8a1c7225-e86c-41c4-b791-ad26bbf28970",
   "metadata": {},
   "outputs": [],
   "source": [
    "##We convert one data type to another data type in python using type casting . Let's understand this using an example below"
   ]
  },
  {
   "cell_type": "code",
   "execution_count": 7,
   "id": "db4ebb52-f7eb-4f9b-b253-58b5e226c379",
   "metadata": {},
   "outputs": [
    {
     "data": {
      "text/plain": [
       "'Pritam'"
      ]
     },
     "execution_count": 7,
     "metadata": {},
     "output_type": "execute_result"
    }
   ],
   "source": [
    "a"
   ]
  },
  {
   "cell_type": "code",
   "execution_count": 8,
   "id": "ee85cf3a-b8c7-4bcd-94c9-75eae3255c8a",
   "metadata": {},
   "outputs": [
    {
     "data": {
      "text/plain": [
       "str"
      ]
     },
     "execution_count": 8,
     "metadata": {},
     "output_type": "execute_result"
    }
   ],
   "source": [
    "type(a)"
   ]
  },
  {
   "cell_type": "code",
   "execution_count": 13,
   "id": "832c90ce-7eb9-400e-9829-1936e822dfea",
   "metadata": {},
   "outputs": [
    {
     "data": {
      "text/plain": [
       "['P', 'r', 'i', 't', 'a', 'm']"
      ]
     },
     "execution_count": 13,
     "metadata": {},
     "output_type": "execute_result"
    }
   ],
   "source": [
    "list(str(a))"
   ]
  },
  {
   "cell_type": "code",
   "execution_count": 18,
   "id": "3b62061e-b1c0-4943-9e07-f0c081072a13",
   "metadata": {},
   "outputs": [
    {
     "data": {
      "text/plain": [
       "list"
      ]
     },
     "execution_count": 18,
     "metadata": {},
     "output_type": "execute_result"
    }
   ],
   "source": [
    "type(list(str(a)))"
   ]
  },
  {
   "cell_type": "code",
   "execution_count": 19,
   "id": "bfcd213e-ed64-4fa4-8338-72d962e57a8c",
   "metadata": {},
   "outputs": [],
   "source": [
    "#How do you write and execute a Python script from the command line?"
   ]
  },
  {
   "cell_type": "code",
   "execution_count": 20,
   "id": "62b86d14-f6ae-41d8-aaa6-e97e53cea403",
   "metadata": {},
   "outputs": [
    {
     "data": {
      "text/plain": [
       "\"We need to open a command line and type the word python followed by the path to the script file \\nlike this: python first_script.py Hello World! \\nThen we have to hit the ENTER button and that's it.\""
      ]
     },
     "execution_count": 20,
     "metadata": {},
     "output_type": "execute_result"
    }
   ],
   "source": [
    "\"\"\"We need to open a command line and type the word python followed by the path to the script file \n",
    "like this: python first_script.py Hello World! \n",
    "Then we have to hit the ENTER button and that's it.\"\"\""
   ]
  },
  {
   "cell_type": "code",
   "execution_count": 21,
   "id": "0acded11-9e3b-4416-8ee2-a7e1fb94f2d9",
   "metadata": {},
   "outputs": [],
   "source": [
    "#Given a list my_list = [1, 2, 3, 4, 5], write the code to slice the list and obtain the sub-list [2, 3]."
   ]
  },
  {
   "cell_type": "code",
   "execution_count": 22,
   "id": "8ce9d3ac-108e-44e1-a692-a44c001419de",
   "metadata": {},
   "outputs": [],
   "source": [
    "my_list = [1, 2, 3, 4, 5]"
   ]
  },
  {
   "cell_type": "code",
   "execution_count": 30,
   "id": "7790e8d6-1d1f-4ba5-8232-ccf6c148c371",
   "metadata": {},
   "outputs": [
    {
     "data": {
      "text/plain": [
       "[2, 3]"
      ]
     },
     "execution_count": 30,
     "metadata": {},
     "output_type": "execute_result"
    }
   ],
   "source": [
    "my_list[1:3]"
   ]
  },
  {
   "cell_type": "code",
   "execution_count": 31,
   "id": "812dd833-b1a8-48dd-95fc-006cf41c09d0",
   "metadata": {},
   "outputs": [],
   "source": [
    "#What is a complex number in mathematics, and how is it represented in Python?"
   ]
  },
  {
   "cell_type": "code",
   "execution_count": 33,
   "id": "9b48b40f-1390-4fbb-8195-7c2380630b13",
   "metadata": {},
   "outputs": [
    {
     "data": {
      "text/plain": [
       "\"Complex number in mathematics is nothing but a number in the form of a+ib , where 'a' and 'b' are real numbers\\nThere are two parts involved in any complex number. \\nOne part is real part which consist of real numbers anb another part is imaginary part which consist of imaginary number along with real\\nwhich is deboted by i(iota)= √-1. Ex- (5+i4) \\nIn Python we represent it in the form of a+jb where a&B are real numbers.\""
      ]
     },
     "execution_count": 33,
     "metadata": {},
     "output_type": "execute_result"
    }
   ],
   "source": [
    "\"\"\"Complex number in mathematics is nothing but a number in the form of a+ib , where 'a' and 'b' are real numbers\n",
    "There are two parts involved in any complex number. \n",
    "One part is real part which consist of real numbers anb another part is imaginary part which consist of imaginary number along with real\n",
    "which is deboted by i(iota)= √-1. Ex- (5+i4) \n",
    "In Python we represent it in the form of a+jb where a&B are real numbers.\"\"\""
   ]
  },
  {
   "cell_type": "code",
   "execution_count": 34,
   "id": "3930285f-bc55-428b-8590-53254175692c",
   "metadata": {},
   "outputs": [],
   "source": [
    "c=(5j+8)"
   ]
  },
  {
   "cell_type": "code",
   "execution_count": 36,
   "id": "1ddaaa31-6993-4ffc-8afb-f1715023183b",
   "metadata": {},
   "outputs": [
    {
     "data": {
      "text/plain": [
       "8.0"
      ]
     },
     "execution_count": 36,
     "metadata": {},
     "output_type": "execute_result"
    }
   ],
   "source": [
    "c.real"
   ]
  },
  {
   "cell_type": "code",
   "execution_count": 37,
   "id": "eabc5e98-5412-41ac-a5f4-3bbf2e3308cb",
   "metadata": {},
   "outputs": [
    {
     "data": {
      "text/plain": [
       "5.0"
      ]
     },
     "execution_count": 37,
     "metadata": {},
     "output_type": "execute_result"
    }
   ],
   "source": [
    "c.imag"
   ]
  },
  {
   "cell_type": "code",
   "execution_count": 38,
   "id": "3ab7441a-6dbf-49a5-909c-85df90bb8f5c",
   "metadata": {},
   "outputs": [],
   "source": [
    "#What is the correct way to declare a variable named age and assign the value 25 to it?"
   ]
  },
  {
   "cell_type": "code",
   "execution_count": 39,
   "id": "4768f49c-522a-447a-8a22-7e131cb90586",
   "metadata": {},
   "outputs": [],
   "source": [
    "age= 25"
   ]
  },
  {
   "cell_type": "code",
   "execution_count": 40,
   "id": "f30e4d87-e8fe-42c3-978a-1a2c628702dc",
   "metadata": {},
   "outputs": [
    {
     "data": {
      "text/plain": [
       "25"
      ]
     },
     "execution_count": 40,
     "metadata": {},
     "output_type": "execute_result"
    }
   ],
   "source": [
    "age"
   ]
  },
  {
   "cell_type": "code",
   "execution_count": 41,
   "id": "c2474ccd-6bbd-4ddb-867e-19a0add5fab8",
   "metadata": {},
   "outputs": [],
   "source": [
    "#Declare a variable named price and assign the value 9.99 to it. What data type does this variable\n",
    "#belong to?"
   ]
  },
  {
   "cell_type": "code",
   "execution_count": 42,
   "id": "79b529ea-a48f-467e-adff-d47dc6b79374",
   "metadata": {},
   "outputs": [],
   "source": [
    "price=9.99"
   ]
  },
  {
   "cell_type": "code",
   "execution_count": 43,
   "id": "1daecf93-c338-4b99-aec4-ad178f69a435",
   "metadata": {},
   "outputs": [
    {
     "data": {
      "text/plain": [
       "float"
      ]
     },
     "execution_count": 43,
     "metadata": {},
     "output_type": "execute_result"
    }
   ],
   "source": [
    "type(price)"
   ]
  },
  {
   "cell_type": "code",
   "execution_count": 44,
   "id": "86a117dd-225e-467d-8ed4-602fd80cbc7e",
   "metadata": {},
   "outputs": [],
   "source": [
    "#Create a variable named name and assign your full name to it as a string. How would you print the\n",
    "#value of this variable?"
   ]
  },
  {
   "cell_type": "code",
   "execution_count": 45,
   "id": "e354c542-a35f-4c0a-bfb0-3f9d3927b215",
   "metadata": {},
   "outputs": [],
   "source": [
    "name=\"Pritam Mishra\""
   ]
  },
  {
   "cell_type": "code",
   "execution_count": 46,
   "id": "23c10c50-8f90-41ba-82fb-b3860fa64848",
   "metadata": {},
   "outputs": [
    {
     "data": {
      "text/plain": [
       "'Pritam Mishra'"
      ]
     },
     "execution_count": 46,
     "metadata": {},
     "output_type": "execute_result"
    }
   ],
   "source": [
    "name"
   ]
  },
  {
   "cell_type": "code",
   "execution_count": 47,
   "id": "7b482460-7388-4b43-9b17-bcb08f49ca9e",
   "metadata": {},
   "outputs": [
    {
     "name": "stdout",
     "output_type": "stream",
     "text": [
      "Pritam Mishra\n"
     ]
    }
   ],
   "source": [
    "print(name)"
   ]
  },
  {
   "cell_type": "code",
   "execution_count": 48,
   "id": "8487dc89-b435-4a21-81a4-acf4aa2bff9b",
   "metadata": {},
   "outputs": [
    {
     "data": {
      "text/plain": [
       "13"
      ]
     },
     "execution_count": 48,
     "metadata": {},
     "output_type": "execute_result"
    }
   ],
   "source": [
    "len(name)"
   ]
  },
  {
   "cell_type": "code",
   "execution_count": 49,
   "id": "7b6172df-55db-4b1a-8b75-ee5d5b457557",
   "metadata": {},
   "outputs": [
    {
     "data": {
      "text/plain": [
       "str"
      ]
     },
     "execution_count": 49,
     "metadata": {},
     "output_type": "execute_result"
    }
   ],
   "source": [
    "type(name)"
   ]
  },
  {
   "cell_type": "code",
   "execution_count": 50,
   "id": "16865733-b887-4bcf-a850-d179ccf42d88",
   "metadata": {},
   "outputs": [],
   "source": [
    "#Given the string \"Hello, World!\", extract the substring \"World\"."
   ]
  },
  {
   "cell_type": "code",
   "execution_count": 51,
   "id": "54c08eaa-e3c1-4f20-a4fe-360ac5ab6712",
   "metadata": {},
   "outputs": [],
   "source": [
    "h= \"Hello, World!\""
   ]
  },
  {
   "cell_type": "code",
   "execution_count": 64,
   "id": "32ee6686-6127-4acf-a980-72290b1f2e56",
   "metadata": {},
   "outputs": [
    {
     "data": {
      "text/plain": [
       "13"
      ]
     },
     "execution_count": 64,
     "metadata": {},
     "output_type": "execute_result"
    }
   ],
   "source": [
    "len(h)"
   ]
  },
  {
   "cell_type": "code",
   "execution_count": 68,
   "id": "4527cc5d-d679-4f7d-9c09-9b856cd3df9e",
   "metadata": {},
   "outputs": [
    {
     "data": {
      "text/plain": [
       "' World'"
      ]
     },
     "execution_count": 68,
     "metadata": {},
     "output_type": "execute_result"
    }
   ],
   "source": [
    "h[6:12:1]"
   ]
  },
  {
   "cell_type": "code",
   "execution_count": null,
   "id": "611d5261-fccf-47b9-8e1b-6152e2096090",
   "metadata": {},
   "outputs": [],
   "source": []
  }
 ],
 "metadata": {
  "kernelspec": {
   "display_name": "Python 3 (ipykernel)",
   "language": "python",
   "name": "python3"
  },
  "language_info": {
   "codemirror_mode": {
    "name": "ipython",
    "version": 3
   },
   "file_extension": ".py",
   "mimetype": "text/x-python",
   "name": "python",
   "nbconvert_exporter": "python",
   "pygments_lexer": "ipython3",
   "version": "3.10.8"
  }
 },
 "nbformat": 4,
 "nbformat_minor": 5
}
