{
 "cells": [
  {
   "cell_type": "code",
   "execution_count": 1,
   "id": "fa5febdc-294b-4fe5-91d6-387bddfbbaad",
   "metadata": {},
   "outputs": [],
   "source": [
    "import requests\n",
    "from bs4 import BeautifulSoup as bs\n",
    "from urllib.request import urlopen as uReq\n",
    "import logging \n"
   ]
  },
  {
   "cell_type": "code",
   "execution_count": 2,
   "id": "ae66fff5-e8aa-43d0-94c1-79d0e0bcbdbe",
   "metadata": {},
   "outputs": [],
   "source": [
    "flipkart_url= \"https://www.flipkart.com/search?q=\" + \"iphone+14promax\""
   ]
  },
  {
   "cell_type": "code",
   "execution_count": 3,
   "id": "e7686f53-4027-4ed9-b419-43e5188b1476",
   "metadata": {},
   "outputs": [
    {
     "data": {
      "text/plain": [
       "'https://www.flipkart.com/search?q=iphone+14promax'"
      ]
     },
     "execution_count": 3,
     "metadata": {},
     "output_type": "execute_result"
    }
   ],
   "source": [
    "flipkart_url"
   ]
  },
  {
   "cell_type": "code",
   "execution_count": 4,
   "id": "04298dba-f1e0-4e09-b430-dd73cc16bc80",
   "metadata": {},
   "outputs": [],
   "source": [
    "urlclient= uReq(flipkart_url)   "
   ]
  },
  {
   "cell_type": "code",
   "execution_count": 5,
   "id": "30cff07d-966c-4c19-a210-a086f6e45a64",
   "metadata": {},
   "outputs": [
    {
     "data": {
      "text/plain": [
       "<http.client.HTTPResponse at 0x7f8b3df2dc90>"
      ]
     },
     "execution_count": 5,
     "metadata": {},
     "output_type": "execute_result"
    }
   ],
   "source": [
    "urlclient"
   ]
  },
  {
   "cell_type": "code",
   "execution_count": 6,
   "id": "5e38e9bd-9523-478f-bceb-fe25b8cf6468",
   "metadata": {},
   "outputs": [],
   "source": [
    "flipkart_page=urlclient.read()"
   ]
  },
  {
   "cell_type": "code",
   "execution_count": 11,
   "id": "2deb6579-25e5-4d85-9ff8-e908487aa3a4",
   "metadata": {},
   "outputs": [],
   "source": [
    "flipkart_html=bs(flipkart_page,'html.parser')"
   ]
  },
  {
   "cell_type": "code",
   "execution_count": 9,
   "id": "dad0761e-0911-4c6f-9a0a-18ad1e091dc0",
   "metadata": {},
   "outputs": [
    {
     "data": {
      "text/plain": [
       "'https://www.flipkart.com/search?q=apple-iphone-14-pro-max-gold-128-gb/p/itm898d084d8a65f?pid=MOBGHWFHGDS3H5S9&amp;lid=LSTMOBGHWFHGDS3H5S9AM0G7C&amp;marketplace=FLIPKART&amp;q=iphone+14promax&amp;store=tyy%2F4io&amp;spotlightTagId=FkPickId_tyy%2F4io&amp;srno=s_1_1&amp;otracker=search&amp;fm=organic&amp;iid=87cfd625-999b-46bc-aa12-8cba67b631be.MOBGHWFHGDS3H5S9.SEARCH&amp;ppt=sp&amp;ppn=sp&amp;ssid=7pmt08prts0000001688812664661&amp;qH=ae03b37e7f6beb8e'"
      ]
     },
     "execution_count": 9,
     "metadata": {},
     "output_type": "execute_result"
    }
   ],
   "source": [
    " \"https://www.flipkart.com/search?q=\"+\"apple-iphone-14-pro-max-gold-128-gb/p/itm898d084d8a65f?pid=MOBGHWFHGDS3H5S9&amp;lid=LSTMOBGHWFHGDS3H5S9AM0G7C&amp;marketplace=FLIPKART&amp;q=iphone+14promax&amp;store=tyy%2F4io&amp;spotlightTagId=FkPickId_tyy%2F4io&amp;srno=s_1_1&amp;otracker=search&amp;fm=organic&amp;iid=87cfd625-999b-46bc-aa12-8cba67b631be.MOBGHWFHGDS3H5S9.SEARCH&amp;ppt=sp&amp;ppn=sp&amp;ssid=7pmt08prts0000001688812664661&amp;qH=ae03b37e7f6beb8e\""
   ]
  },
  {
   "cell_type": "code",
   "execution_count": 12,
   "id": "31f5524d-0d22-4e2c-94c4-0679d54d44f3",
   "metadata": {},
   "outputs": [],
   "source": [
    "bigbox=flipkart_html.find_all(\"div\",{\"class\": \"_1AtVbE col-12-12\"})"
   ]
  },
  {
   "cell_type": "code",
   "execution_count": 23,
   "id": "d18f4923-ad98-473f-8b2a-cd9f00b2fd27",
   "metadata": {},
   "outputs": [
    {
     "data": {
      "text/plain": [
       "29"
      ]
     },
     "execution_count": 23,
     "metadata": {},
     "output_type": "execute_result"
    }
   ],
   "source": [
    "len(bigbox)"
   ]
  },
  {
   "cell_type": "code",
   "execution_count": 24,
   "id": "b14ce854-3b92-432c-bd6f-99af02dbf00d",
   "metadata": {},
   "outputs": [],
   "source": [
    "del bigbox[0:3]"
   ]
  },
  {
   "cell_type": "code",
   "execution_count": 17,
   "id": "8d56f788-1a35-4f95-ac1e-3d3dbcb5ee06",
   "metadata": {},
   "outputs": [
    {
     "data": {
      "text/plain": [
       "'https://www.flipkart.com/apple-iphone-14-pro-max-gold-128-gb/p/itm898d084d8a65f?pid=MOBGHWFHGDS3H5S9&lid=LSTMOBGHWFHGDS3H5S9AM0G7C&marketplace=FLIPKART&q=iphone+14promax&store=tyy%2F4io&spotlightTagId=FkPickId_tyy%2F4io&srno=s_1_2&otracker=search&fm=organic&iid=4fe63b6e-6b90-438f-a596-8413e2c4d8e4.MOBGHWFHGDS3H5S9.SEARCH&ppt=None&ppn=None&ssid=06cqu777rk0000001688818351180&qH=ae03b37e7f6beb8e'"
      ]
     },
     "execution_count": 17,
     "metadata": {},
     "output_type": "execute_result"
    }
   ],
   "source": [
    "\"https://www.flipkart.com\"+bigbox[3].div.div.div.a['href']"
   ]
  },
  {
   "cell_type": "code",
   "execution_count": 25,
   "id": "abb48fca-9db4-441b-bd09-c4046cda7485",
   "metadata": {},
   "outputs": [
    {
     "name": "stdout",
     "output_type": "stream",
     "text": [
      "https://www.flipkart.com/apple-iphone-14-pro-max-gold-128-gb/p/itm898d084d8a65f?pid=MOBGHWFHGDS3H5S9&lid=LSTMOBGHWFHGDS3H5S9AM0G7C&marketplace=FLIPKART&q=iphone+14promax&store=tyy%2F4io&spotlightTagId=FkPickId_tyy%2F4io&srno=s_1_2&otracker=search&fm=organic&iid=4fe63b6e-6b90-438f-a596-8413e2c4d8e4.MOBGHWFHGDS3H5S9.SEARCH&ppt=None&ppn=None&ssid=06cqu777rk0000001688818351180&qH=ae03b37e7f6beb8e\n",
      "https://www.flipkart.com/apple-iphone-14-pro-max-space-black-128-gb/p/itm9aed88fe43457?pid=MOBGHWFHCNVGGMZF&lid=LSTMOBGHWFHCNVGGMZFEEIZN3&marketplace=FLIPKART&q=iphone+14promax&store=tyy%2F4io&srno=s_1_3&otracker=search&fm=organic&iid=4fe63b6e-6b90-438f-a596-8413e2c4d8e4.MOBGHWFHCNVGGMZF.SEARCH&ppt=None&ppn=None&ssid=06cqu777rk0000001688818351180&qH=ae03b37e7f6beb8e\n",
      "https://www.flipkart.com/apple-iphone-14-pro-max-silver-128-gb/p/itmb520f3bdf56d5?pid=MOBGHWFHXFGNUZJA&lid=LSTMOBGHWFHXFGNUZJAMNTG4B&marketplace=FLIPKART&q=iphone+14promax&store=tyy%2F4io&srno=s_1_4&otracker=search&fm=organic&iid=4fe63b6e-6b90-438f-a596-8413e2c4d8e4.MOBGHWFHXFGNUZJA.SEARCH&ppt=None&ppn=None&ssid=06cqu777rk0000001688818351180&qH=ae03b37e7f6beb8e\n",
      "https://www.flipkart.com/apple-iphone-14-pro-max-space-black-256-gb/p/itm8a92b3d600e04?pid=MOBGHWFHSEZUKWDM&lid=LSTMOBGHWFHSEZUKWDMSHQUPT&marketplace=FLIPKART&q=iphone+14promax&store=tyy%2F4io&srno=s_1_5&otracker=search&fm=organic&iid=4fe63b6e-6b90-438f-a596-8413e2c4d8e4.MOBGHWFHSEZUKWDM.SEARCH&ppt=None&ppn=None&ssid=06cqu777rk0000001688818351180&qH=ae03b37e7f6beb8e\n",
      "https://www.flipkart.com/apple-iphone-14-pro-max-silver-256-gb/p/itm111e35f4e1caa?pid=MOBGHWFHBERP6PNS&lid=LSTMOBGHWFHBERP6PNS8N24KK&marketplace=FLIPKART&q=iphone+14promax&store=tyy%2F4io&srno=s_1_6&otracker=search&fm=organic&iid=4fe63b6e-6b90-438f-a596-8413e2c4d8e4.MOBGHWFHBERP6PNS.SEARCH&ppt=None&ppn=None&ssid=06cqu777rk0000001688818351180&qH=ae03b37e7f6beb8e\n",
      "https://www.flipkart.com/apple-iphone-14-pro-max-silver-512-gb/p/itm450e8757732f9?pid=MOBGHWFHEQA2GSCS&lid=LSTMOBGHWFHEQA2GSCSPHDU4P&marketplace=FLIPKART&q=iphone+14promax&store=tyy%2F4io&spotlightTagId=TrendingId_tyy%2F4io&srno=s_1_7&otracker=search&fm=organic&iid=4fe63b6e-6b90-438f-a596-8413e2c4d8e4.MOBGHWFHEQA2GSCS.SEARCH&ppt=None&ppn=None&ssid=06cqu777rk0000001688818351180&qH=ae03b37e7f6beb8e\n",
      "https://www.flipkart.com/apple-iphone-14-pro-max-gold-512-gb/p/itm6ab4bc3095a65?pid=MOBGHWFHZAXBEPXV&lid=LSTMOBGHWFHZAXBEPXVDYYT8X&marketplace=FLIPKART&q=iphone+14promax&store=tyy%2F4io&srno=s_1_8&otracker=search&fm=organic&iid=4fe63b6e-6b90-438f-a596-8413e2c4d8e4.MOBGHWFHZAXBEPXV.SEARCH&ppt=None&ppn=None&ssid=06cqu777rk0000001688818351180&qH=ae03b37e7f6beb8e\n",
      "https://www.flipkart.com/apple-iphone-14-pro-max-gold-256-gb/p/itmd21bfa03be8c2?pid=MOBGHWFHZVHJM4HZ&lid=LSTMOBGHWFHZVHJM4HZFPEJ62&marketplace=FLIPKART&q=iphone+14promax&store=tyy%2F4io&srno=s_1_9&otracker=search&fm=organic&iid=4fe63b6e-6b90-438f-a596-8413e2c4d8e4.MOBGHWFHZVHJM4HZ.SEARCH&ppt=None&ppn=None&ssid=06cqu777rk0000001688818351180&qH=ae03b37e7f6beb8e\n",
      "https://www.flipkart.com/apple-iphone-14-pro-max-silver-1-tb/p/itm674918cf10f1d?pid=MOBGHWFHHURZWVKE&lid=LSTMOBGHWFHHURZWVKEHJCEFO&marketplace=FLIPKART&q=iphone+14promax&store=tyy%2F4io&srno=s_1_10&otracker=search&fm=organic&iid=4fe63b6e-6b90-438f-a596-8413e2c4d8e4.MOBGHWFHHURZWVKE.SEARCH&ppt=None&ppn=None&ssid=06cqu777rk0000001688818351180&qH=ae03b37e7f6beb8e\n",
      "https://www.flipkart.com/apple-iphone-14-pro-max-deep-purple-256-gb/p/itm5d37f9e956ec7?pid=MOBGHWFHKTTFUQEH&lid=LSTMOBGHWFHKTTFUQEHOOGMRO&marketplace=FLIPKART&q=iphone+14promax&store=tyy%2F4io&srno=s_1_11&otracker=search&fm=organic&iid=4fe63b6e-6b90-438f-a596-8413e2c4d8e4.MOBGHWFHKTTFUQEH.SEARCH&ppt=None&ppn=None&ssid=06cqu777rk0000001688818351180&qH=ae03b37e7f6beb8e\n",
      "https://www.flipkart.com/apple-iphone-14-pro-max-space-black-512-gb/p/itm68fe95bfc58dd?pid=MOBGHWFHSTGZHYAT&lid=LSTMOBGHWFHSTGZHYATDCZBHP&marketplace=FLIPKART&q=iphone+14promax&store=tyy%2F4io&srno=s_1_12&otracker=search&fm=organic&iid=4fe63b6e-6b90-438f-a596-8413e2c4d8e4.MOBGHWFHSTGZHYAT.SEARCH&ppt=None&ppn=None&ssid=06cqu777rk0000001688818351180&qH=ae03b37e7f6beb8e\n",
      "https://www.flipkart.com/apple-iphone-14-pro-max-deep-purple-1-tb/p/itm325420078c46e?pid=MOBGHWFH7STEFFVC&lid=LSTMOBGHWFH7STEFFVCFQXUES&marketplace=FLIPKART&q=iphone+14promax&store=tyy%2F4io&srno=s_1_13&otracker=search&fm=organic&iid=4fe63b6e-6b90-438f-a596-8413e2c4d8e4.MOBGHWFH7STEFFVC.SEARCH&ppt=None&ppn=None&ssid=06cqu777rk0000001688818351180&qH=ae03b37e7f6beb8e\n",
      "https://www.flipkart.com/apple-iphone-14-pro-max-deep-purple-512-gb/p/itmf7d9a6db35ddd?pid=MOBGHWFHK5GZRHS3&lid=LSTMOBGHWFHK5GZRHS3XOKI1D&marketplace=FLIPKART&q=iphone+14promax&store=tyy%2F4io&srno=s_1_14&otracker=search&fm=organic&iid=4fe63b6e-6b90-438f-a596-8413e2c4d8e4.MOBGHWFHK5GZRHS3.SEARCH&ppt=None&ppn=None&ssid=06cqu777rk0000001688818351180&qH=ae03b37e7f6beb8e\n",
      "https://www.flipkart.com/apple-iphone-14-pro-max-gold-1-tb/p/itm652c9ff84d759?pid=MOBGHWFHPFG8VNXS&lid=LSTMOBGHWFHPFG8VNXSXNDZ3U&marketplace=FLIPKART&q=iphone+14promax&store=tyy%2F4io&srno=s_1_15&otracker=search&fm=organic&iid=4fe63b6e-6b90-438f-a596-8413e2c4d8e4.MOBGHWFHPFG8VNXS.SEARCH&ppt=None&ppn=None&ssid=06cqu777rk0000001688818351180&qH=ae03b37e7f6beb8e\n",
      "https://www.flipkart.com/apple-iphone-14-pro-max-space-black-1-tb/p/itm60b62b9408788?pid=MOBGHWFHSHH7UP2Y&lid=LSTMOBGHWFHSHH7UP2YTSCSQN&marketplace=FLIPKART&q=iphone+14promax&store=tyy%2F4io&srno=s_1_16&otracker=search&fm=organic&iid=4fe63b6e-6b90-438f-a596-8413e2c4d8e4.MOBGHWFHSHH7UP2Y.SEARCH&ppt=None&ppn=None&ssid=06cqu777rk0000001688818351180&qH=ae03b37e7f6beb8e\n",
      "https://www.flipkart.com/apple-iphone-12-pro-max-silver-512-gb/p/itm5d3d37892544f?pid=MOBFWBYZW38NGPNM&lid=LSTMOBFWBYZW38NGPNMWD1NPD&marketplace=FLIPKART&q=iphone+14promax&store=tyy%2F4io&srno=s_1_17&otracker=search&fm=organic&iid=4fe63b6e-6b90-438f-a596-8413e2c4d8e4.MOBFWBYZW38NGPNM.SEARCH&ppt=None&ppn=None&ssid=06cqu777rk0000001688818351180&qH=ae03b37e7f6beb8e\n",
      "https://www.flipkart.com/apple-iphone-12-pro-max-silver-256-gb/p/itm30faf74442adb?pid=MOBFWBYZZH4AM8FE&lid=LSTMOBFWBYZZH4AM8FETYFBOG&marketplace=FLIPKART&q=iphone+14promax&store=tyy%2F4io&srno=s_1_18&otracker=search&fm=organic&iid=4fe63b6e-6b90-438f-a596-8413e2c4d8e4.MOBFWBYZZH4AM8FE.SEARCH&ppt=None&ppn=None&ssid=06cqu777rk0000001688818351180&qH=ae03b37e7f6beb8e\n",
      "https://www.flipkart.com/apple-iphone-12-pro-max-silver-128-gb/p/itm5a51ba742a17e?pid=MOBFWBYZNSNVGGZC&lid=LSTMOBFWBYZNSNVGGZCTPGZZU&marketplace=FLIPKART&q=iphone+14promax&store=tyy%2F4io&srno=s_1_19&otracker=search&fm=organic&iid=4fe63b6e-6b90-438f-a596-8413e2c4d8e4.MOBFWBYZNSNVGGZC.SEARCH&ppt=None&ppn=None&ssid=06cqu777rk0000001688818351180&qH=ae03b37e7f6beb8e\n",
      "https://www.flipkart.com/apple-iphone-12-pro-max-gold-512-gb/p/itmd164e2fef2871?pid=MOBFWBYZ4AG3FGNW&lid=LSTMOBFWBYZ4AG3FGNWL6UEHL&marketplace=FLIPKART&q=iphone+14promax&store=tyy%2F4io&srno=s_1_20&otracker=search&fm=organic&iid=4fe63b6e-6b90-438f-a596-8413e2c4d8e4.MOBFWBYZ4AG3FGNW.SEARCH&ppt=None&ppn=None&ssid=06cqu777rk0000001688818351180&qH=ae03b37e7f6beb8e\n",
      "https://www.flipkart.com/apple-iphone-12-pro-max-graphite-128-gb/p/itm973c298184f51?pid=MOBFWBYZFDGQSDWS&lid=LSTMOBFWBYZFDGQSDWS6UBAEI&marketplace=FLIPKART&q=iphone+14promax&store=tyy%2F4io&srno=s_1_21&otracker=search&fm=organic&iid=4fe63b6e-6b90-438f-a596-8413e2c4d8e4.MOBFWBYZFDGQSDWS.SEARCH&ppt=None&ppn=None&ssid=06cqu777rk0000001688818351180&qH=ae03b37e7f6beb8e\n",
      "https://www.flipkart.com/apple-iphone-12-pro-max-graphite-512-gb/p/itm52a5e8e630441?pid=MOBFWBYZZZ6DWWFZ&lid=LSTMOBFWBYZZZ6DWWFZJWJVPK&marketplace=FLIPKART&q=iphone+14promax&store=tyy%2F4io&srno=s_1_22&otracker=search&fm=organic&iid=4fe63b6e-6b90-438f-a596-8413e2c4d8e4.MOBFWBYZZZ6DWWFZ.SEARCH&ppt=None&ppn=None&ssid=06cqu777rk0000001688818351180&qH=ae03b37e7f6beb8e\n",
      "https://www.flipkart.com/apple-iphone-12-pro-max-gold-256-gb/p/itm1e0354f5bbc8c?pid=MOBFWBYZZPW8JHQF&lid=LSTMOBFWBYZZPW8JHQFVJR3PO&marketplace=FLIPKART&q=iphone+14promax&store=tyy%2F4io&srno=s_1_23&otracker=search&fm=organic&iid=4fe63b6e-6b90-438f-a596-8413e2c4d8e4.MOBFWBYZZPW8JHQF.SEARCH&ppt=None&ppn=None&ssid=06cqu777rk0000001688818351180&qH=ae03b37e7f6beb8e\n",
      "https://www.flipkart.com/apple-iphone-12-pro-max-gold-128-gb/p/itme3ae592065711?pid=MOBFWBYZQVKT77YH&lid=LSTMOBFWBYZQVKT77YHP1ERRT&marketplace=FLIPKART&q=iphone+14promax&store=tyy%2F4io&srno=s_1_24&otracker=search&fm=organic&iid=4fe63b6e-6b90-438f-a596-8413e2c4d8e4.MOBFWBYZQVKT77YH.SEARCH&ppt=None&ppn=None&ssid=06cqu777rk0000001688818351180&qH=ae03b37e7f6beb8e\n"
     ]
    },
    {
     "ename": "AttributeError",
     "evalue": "'NoneType' object has no attribute 'a'",
     "output_type": "error",
     "traceback": [
      "\u001b[0;31m---------------------------------------------------------------------------\u001b[0m",
      "\u001b[0;31mAttributeError\u001b[0m                            Traceback (most recent call last)",
      "Cell \u001b[0;32mIn[25], line 2\u001b[0m\n\u001b[1;32m      1\u001b[0m \u001b[38;5;28;01mfor\u001b[39;00m i \u001b[38;5;129;01min\u001b[39;00m bigbox:\n\u001b[0;32m----> 2\u001b[0m     \u001b[38;5;28mprint\u001b[39m(\u001b[38;5;124m\"\u001b[39m\u001b[38;5;124mhttps://www.flipkart.com\u001b[39m\u001b[38;5;124m\"\u001b[39m\u001b[38;5;241m+\u001b[39m\u001b[43mi\u001b[49m\u001b[38;5;241;43m.\u001b[39;49m\u001b[43mdiv\u001b[49m\u001b[38;5;241;43m.\u001b[39;49m\u001b[43mdiv\u001b[49m\u001b[38;5;241;43m.\u001b[39;49m\u001b[43mdiv\u001b[49m\u001b[38;5;241;43m.\u001b[39;49m\u001b[43ma\u001b[49m[\u001b[38;5;124m'\u001b[39m\u001b[38;5;124mhref\u001b[39m\u001b[38;5;124m'\u001b[39m])\n",
      "\u001b[0;31mAttributeError\u001b[0m: 'NoneType' object has no attribute 'a'"
     ]
    }
   ],
   "source": [
    "for i in bigbox:\n",
    "    print(\"https://www.flipkart.com\"+i.div.div.div.a['href'])"
   ]
  },
  {
   "cell_type": "code",
   "execution_count": 26,
   "id": "7e7e83bf-68f5-48f0-a442-e722c6a76434",
   "metadata": {},
   "outputs": [],
   "source": [
    "productlink= \"https://www.flipkart.com\"+bigbox[3].div.div.div.a['href']"
   ]
  },
  {
   "cell_type": "code",
   "execution_count": 28,
   "id": "6f5abcb7-7c7c-4660-aded-2075e2bc9792",
   "metadata": {},
   "outputs": [],
   "source": [
    "product_req= requests.get(productlink)"
   ]
  },
  {
   "cell_type": "code",
   "execution_count": 29,
   "id": "290ef534-4093-4d23-9ce6-d6cc121aa453",
   "metadata": {},
   "outputs": [
    {
     "data": {
      "text/plain": [
       "'https://www.flipkart.com/apple-iphone-14-pro-max-space-black-256-gb/p/itm8a92b3d600e04?pid=MOBGHWFHSEZUKWDM&lid=LSTMOBGHWFHSEZUKWDMSHQUPT&marketplace=FLIPKART&q=iphone+14promax&store=tyy%2F4io&srno=s_1_5&otracker=search&fm=organic&iid=4fe63b6e-6b90-438f-a596-8413e2c4d8e4.MOBGHWFHSEZUKWDM.SEARCH&ppt=None&ppn=None&ssid=06cqu777rk0000001688818351180&qH=ae03b37e7f6beb8e'"
      ]
     },
     "execution_count": 29,
     "metadata": {},
     "output_type": "execute_result"
    }
   ],
   "source": [
    "productlink"
   ]
  },
  {
   "cell_type": "code",
   "execution_count": 32,
   "id": "ae5d17b2-1849-4144-9ad2-1d471e5a757d",
   "metadata": {},
   "outputs": [],
   "source": [
    "product_html=bs(product_req.text,'html.parser')"
   ]
  },
  {
   "cell_type": "code",
   "execution_count": 35,
   "id": "a2f46dc8-bcf3-431e-ad2f-d8a7520a5ec4",
   "metadata": {},
   "outputs": [],
   "source": [
    "comment_box=product_html.find_all(\"div\", {\"class\":\"_16PBlm\" })"
   ]
  },
  {
   "cell_type": "code",
   "execution_count": 36,
   "id": "9addc121-e08f-4b36-a0ab-159983109e61",
   "metadata": {},
   "outputs": [
    {
     "data": {
      "text/plain": [
       "11"
      ]
     },
     "execution_count": 36,
     "metadata": {},
     "output_type": "execute_result"
    }
   ],
   "source": [
    "len(comment_box)"
   ]
  },
  {
   "cell_type": "code",
   "execution_count": 41,
   "id": "3ab0d39d-823b-41d1-9c7b-aaa6468d7091",
   "metadata": {},
   "outputs": [
    {
     "name": "stdout",
     "output_type": "stream",
     "text": [
      "Jeevan Batla\n",
      "Priyam Gupta\n",
      "Nikhil Kumar\n",
      "Flipkart Customer\n",
      "Sandhya Rani Mohapatra\n",
      "dipam\n",
      "Naresh Meher\n",
      "Saurabh Kumar\n",
      "Flipkart Customer\n",
      "Awadh  Sharma\n"
     ]
    },
    {
     "ename": "AttributeError",
     "evalue": "'NoneType' object has no attribute 'div'",
     "output_type": "error",
     "traceback": [
      "\u001b[0;31m---------------------------------------------------------------------------\u001b[0m",
      "\u001b[0;31mAttributeError\u001b[0m                            Traceback (most recent call last)",
      "Cell \u001b[0;32mIn[41], line 2\u001b[0m\n\u001b[1;32m      1\u001b[0m \u001b[38;5;28;01mfor\u001b[39;00m i \u001b[38;5;129;01min\u001b[39;00m comment_box:\n\u001b[0;32m----> 2\u001b[0m     \u001b[38;5;28mprint\u001b[39m(\u001b[43mi\u001b[49m\u001b[38;5;241;43m.\u001b[39;49m\u001b[43mdiv\u001b[49m\u001b[38;5;241;43m.\u001b[39;49m\u001b[43mdiv\u001b[49m\u001b[38;5;241m.\u001b[39mfind_all(\u001b[38;5;124m\"\u001b[39m\u001b[38;5;124mp\u001b[39m\u001b[38;5;124m\"\u001b[39m,{\u001b[38;5;124m\"\u001b[39m\u001b[38;5;124mclass\u001b[39m\u001b[38;5;124m\"\u001b[39m: \u001b[38;5;124m\"\u001b[39m\u001b[38;5;124m_2sc7ZR _2V5EHH\u001b[39m\u001b[38;5;124m\"\u001b[39m})[\u001b[38;5;241m0\u001b[39m]\u001b[38;5;241m.\u001b[39mtext)\n",
      "\u001b[0;31mAttributeError\u001b[0m: 'NoneType' object has no attribute 'div'"
     ]
    }
   ],
   "source": [
    "for i in comment_box:\n",
    "    print(i.div.div.find_all(\"p\",{\"class\": \"_2sc7ZR _2V5EHH\"})[0].text)\n",
    "    \n",
    "    "
   ]
  },
  {
   "cell_type": "code",
   "execution_count": 50,
   "id": "4ef9302b-8c0e-43e4-8c6a-13c0a29f9bf9",
   "metadata": {},
   "outputs": [
    {
     "name": "stdout",
     "output_type": "stream",
     "text": [
      "5\n",
      "5\n",
      "5\n",
      "5\n",
      "5\n",
      "5\n",
      "5\n",
      "5\n",
      "5\n",
      "5\n"
     ]
    },
    {
     "ename": "AttributeError",
     "evalue": "'NoneType' object has no attribute 'div'",
     "output_type": "error",
     "traceback": [
      "\u001b[0;31m---------------------------------------------------------------------------\u001b[0m",
      "\u001b[0;31mAttributeError\u001b[0m                            Traceback (most recent call last)",
      "Cell \u001b[0;32mIn[50], line 2\u001b[0m\n\u001b[1;32m      1\u001b[0m \u001b[38;5;28;01mfor\u001b[39;00m i \u001b[38;5;129;01min\u001b[39;00m comment_box:\n\u001b[0;32m----> 2\u001b[0m     \u001b[38;5;28mprint\u001b[39m(\u001b[43mi\u001b[49m\u001b[38;5;241;43m.\u001b[39;49m\u001b[43mdiv\u001b[49m\u001b[38;5;241;43m.\u001b[39;49m\u001b[43mdiv\u001b[49m\u001b[38;5;241m.\u001b[39mdiv\u001b[38;5;241m.\u001b[39mdiv\u001b[38;5;241m.\u001b[39mtext)\n",
      "\u001b[0;31mAttributeError\u001b[0m: 'NoneType' object has no attribute 'div'"
     ]
    }
   ],
   "source": [
    "for i in comment_box:\n",
    "    print(i.div.div.div.div.text)"
   ]
  },
  {
   "cell_type": "code",
   "execution_count": 58,
   "id": "6ab930ef-200d-40df-8fa4-dd37d31ee0f8",
   "metadata": {},
   "outputs": [
    {
     "data": {
      "text/plain": [
       "'Terrific purchase'"
      ]
     },
     "execution_count": 58,
     "metadata": {},
     "output_type": "execute_result"
    }
   ],
   "source": [
    "comment_box[0].div.div.div.p.text"
   ]
  },
  {
   "cell_type": "code",
   "execution_count": 59,
   "id": "ac14bd1a-2584-4e00-bc28-3ec259c906fd",
   "metadata": {},
   "outputs": [
    {
     "name": "stdout",
     "output_type": "stream",
     "text": [
      "Terrific purchase\n",
      "Great product\n",
      "Excellent\n",
      "Fabulous!\n",
      "Just wow!\n",
      "Highly recommended\n",
      "Excellent\n",
      "Mind-blowing purchase\n",
      "Fabulous!\n",
      "Great product\n"
     ]
    },
    {
     "ename": "AttributeError",
     "evalue": "'NoneType' object has no attribute 'div'",
     "output_type": "error",
     "traceback": [
      "\u001b[0;31m---------------------------------------------------------------------------\u001b[0m",
      "\u001b[0;31mAttributeError\u001b[0m                            Traceback (most recent call last)",
      "Cell \u001b[0;32mIn[59], line 2\u001b[0m\n\u001b[1;32m      1\u001b[0m \u001b[38;5;28;01mfor\u001b[39;00m i \u001b[38;5;129;01min\u001b[39;00m comment_box:\n\u001b[0;32m----> 2\u001b[0m     \u001b[38;5;28mprint\u001b[39m(\u001b[43mi\u001b[49m\u001b[38;5;241;43m.\u001b[39;49m\u001b[43mdiv\u001b[49m\u001b[38;5;241;43m.\u001b[39;49m\u001b[43mdiv\u001b[49m\u001b[38;5;241m.\u001b[39mdiv\u001b[38;5;241m.\u001b[39mp\u001b[38;5;241m.\u001b[39mtext)\n",
      "\u001b[0;31mAttributeError\u001b[0m: 'NoneType' object has no attribute 'div'"
     ]
    }
   ],
   "source": [
    "for i in comment_box:\n",
    "    print(i.div.div.div.p.text)"
   ]
  },
  {
   "cell_type": "code",
   "execution_count": 72,
   "id": "d4473c3a-9c14-4167-933e-450e5ce8e24b",
   "metadata": {},
   "outputs": [
    {
     "data": {
      "text/plain": [
       "'Madly in love with the phone performance is blazing fast I love the pro motion display and dynamic island works as advertised I am in love with that feature 😍 I would like to thank Flipkart for organising the stock for me and delivering my phone on time before the delivery dateREAD MORE'"
      ]
     },
     "execution_count": 72,
     "metadata": {},
     "output_type": "execute_result"
    }
   ],
   "source": [
    "comment_box[0].div.div.find_all(\"div\", {\"class\":\"\" })[0].text"
   ]
  },
  {
   "cell_type": "code",
   "execution_count": 76,
   "id": "7fbec823-5730-4fbc-b488-6e0b14712b2a",
   "metadata": {},
   "outputs": [
    {
     "name": "stdout",
     "output_type": "stream",
     "text": [
      "Madly in love with the phone performance is blazing fast I love the pro motion display and dynamic island works as advertised I am in love with that feature 😍 I would like to thank Flipkart for organising the stock for me and delivering my phone on time before the delivery dateREAD MORE\n",
      "One of the best Smartphone you can buy right now.Let's start with the Pros of the phone:-Dynamic Island is a joy-Always-on screen is gorgeous-Exquisitely premium design-Beautiful 120Hz display-Incredible 48+12+12+12 MP camera system-Blistering performance-Outstanding battery life-Robust iOS 16 softwareNow let's talk a little about the Cons:-One of the heaviest phones you can buy-ExpensiveREAD MORE\n",
      "Just go for it!!The iPhone 14 Pro Max Delivers Unparalleled Excellence - i I got the 512GB ROM variant.Review:I recently upgraded to the iPhone 14 Pro Max, and I must say, this device is a game-changer. From the moment I held it in my hands, I could tell that Apple had once again pushed the boundaries of smartphone technology. With its sleek design, stunning display, and an array of impressive features, the iPhone 14 Pro Max has exceeded my expectations in every way.One of the standout ...READ MORE\n",
      "Awsum Perfect product from apple 👍🏼READ MORE\n",
      "Finally after long wait I got my 512 GB IPhone 14 Pro Max, Deep Purple Colour. Superb Camera quality. Looks Premium. Upgraded from IPhone XR. Battery backup is nice. Thank you Flipkart for timely delivery.READ MORE\n",
      "Very nice 👌 Awesome 👌READ MORE\n",
      "Superb camera superb built quality, display best in the market. 24hr minimum Battery backup. daily use moderately sometime play games but not often . 2things are awesome the sound , never ever experience this type of sound and last but not the least camera in night mode it is beast . Video 🔥READ MORE\n",
      "King is here, it is really super se upar and flipkart delivery just mind blowing. Delivered early. Mine is pro max 512gb Silver colour.READ MORE\n",
      "Finally, I got iPhone 14 Pro Max 512GB ( Deep Purple). Performance, Looks, Feels and Quality are awesome. Image and Video Quality are superb without any doubt. Don't think about it, Just go for it. JUST AWESOME. LOVED IT...READ MORE\n",
      "Nothing to say about i phone 14 pro max Just AwesomeREAD MORE\n"
     ]
    },
    {
     "ename": "AttributeError",
     "evalue": "'NoneType' object has no attribute 'div'",
     "output_type": "error",
     "traceback": [
      "\u001b[0;31m---------------------------------------------------------------------------\u001b[0m",
      "\u001b[0;31mAttributeError\u001b[0m                            Traceback (most recent call last)",
      "Cell \u001b[0;32mIn[76], line 2\u001b[0m\n\u001b[1;32m      1\u001b[0m \u001b[38;5;28;01mfor\u001b[39;00m i \u001b[38;5;129;01min\u001b[39;00m comment_box:\n\u001b[0;32m----> 2\u001b[0m     \u001b[38;5;28mprint\u001b[39m(\u001b[43mi\u001b[49m\u001b[38;5;241;43m.\u001b[39;49m\u001b[43mdiv\u001b[49m\u001b[38;5;241;43m.\u001b[39;49m\u001b[43mdiv\u001b[49m\u001b[38;5;241m.\u001b[39mfind_all(\u001b[38;5;124m\"\u001b[39m\u001b[38;5;124mdiv\u001b[39m\u001b[38;5;124m\"\u001b[39m, {\u001b[38;5;124m\"\u001b[39m\u001b[38;5;124mclass\u001b[39m\u001b[38;5;124m\"\u001b[39m:\u001b[38;5;124m\"\u001b[39m\u001b[38;5;124m\"\u001b[39m })[\u001b[38;5;241m0\u001b[39m]\u001b[38;5;241m.\u001b[39mtext)\n",
      "\u001b[0;31mAttributeError\u001b[0m: 'NoneType' object has no attribute 'div'"
     ]
    }
   ],
   "source": [
    "for i in comment_box:\n",
    "    print(i.div.div.find_all(\"div\", {\"class\":\"\" })[0].text)"
   ]
  },
  {
   "cell_type": "code",
   "execution_count": null,
   "id": "0d48a976-56d9-43a3-9bb9-c10867cf66e3",
   "metadata": {},
   "outputs": [],
   "source": []
  }
 ],
 "metadata": {
  "kernelspec": {
   "display_name": "Python 3 (ipykernel)",
   "language": "python",
   "name": "python3"
  },
  "language_info": {
   "codemirror_mode": {
    "name": "ipython",
    "version": 3
   },
   "file_extension": ".py",
   "mimetype": "text/x-python",
   "name": "python",
   "nbconvert_exporter": "python",
   "pygments_lexer": "ipython3",
   "version": "3.10.8"
  }
 },
 "nbformat": 4,
 "nbformat_minor": 5
}
