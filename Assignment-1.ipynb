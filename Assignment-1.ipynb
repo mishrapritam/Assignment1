{
 "cells": [
  {
   "cell_type": "code",
   "execution_count": null,
   "id": "aa0df634-0ca6-4c43-9a89-d4bed7e82cbe",
   "metadata": {},
   "outputs": [],
   "source": [
    "a= \"Pritam\""
   ]
  },
  {
   "cell_type": "code",
   "execution_count": 2,
   "id": "66c1c2bd-ce6b-4960-9714-a655c873392e",
   "metadata": {},
   "outputs": [],
   "source": [
    "b=[21,29.3,\"Data\", 77,False]"
   ]
  },
  {
   "cell_type": "code",
   "execution_count": 3,
   "id": "63ffc9b1-ce7b-44bf-9492-988efe35ad32",
   "metadata": {},
   "outputs": [],
   "source": [
    "c= 87.77"
   ]
  },
  {
   "cell_type": "code",
   "execution_count": 4,
   "id": "f66d7cf5-29c7-4933-8996-ad808b516502",
   "metadata": {},
   "outputs": [],
   "source": [
    "d= (\"tuple\", 34, True, 40, \"manu\")\n"
   ]
  },
  {
   "cell_type": "code",
   "execution_count": 10,
   "id": "c91a0a5a-8347-4dc7-838f-9ecbd9ee719a",
   "metadata": {},
   "outputs": [
    {
     "data": {
      "text/plain": [
       "str"
      ]
     },
     "execution_count": 10,
     "metadata": {},
     "output_type": "execute_result"
    }
   ],
   "source": [
    "var1 = ''\n",
    "type(var1)"
   ]
  },
  {
   "cell_type": "code",
   "execution_count": 12,
   "id": "d19f109e-be67-41f3-b574-e8427b8052b9",
   "metadata": {},
   "outputs": [
    {
     "data": {
      "text/plain": [
       "str"
      ]
     },
     "execution_count": 12,
     "metadata": {},
     "output_type": "execute_result"
    }
   ],
   "source": [
    "var2 = '[ DS , ML , Python]'\n",
    "type(var2)"
   ]
  },
  {
   "cell_type": "code",
   "execution_count": 14,
   "id": "32f60b58-8d0a-45b3-8789-a4f945eab856",
   "metadata": {},
   "outputs": [
    {
     "data": {
      "text/plain": [
       "list"
      ]
     },
     "execution_count": 14,
     "metadata": {},
     "output_type": "execute_result"
    }
   ],
   "source": [
    "var3 = [ 'DS' , 'ML' , 'Python' ]\n",
    "type(var3)"
   ]
  },
  {
   "cell_type": "code",
   "execution_count": 15,
   "id": "cc486894-f5e5-4932-8a2d-8ffbfc0ad65c",
   "metadata": {},
   "outputs": [
    {
     "data": {
      "text/plain": [
       "int"
      ]
     },
     "execution_count": 15,
     "metadata": {},
     "output_type": "execute_result"
    }
   ],
   "source": [
    "var4 = 1\n",
    "type(var4)"
   ]
  },
  {
   "cell_type": "code",
   "execution_count": 7,
   "id": "caa33faa-eada-4884-be27-6cdcbf3899b8",
   "metadata": {},
   "outputs": [],
   "source": [
    "q=45\n",
    "w= 3"
   ]
  },
  {
   "cell_type": "code",
   "execution_count": 17,
   "id": "2fb214e5-54f9-4503-b9a6-2e396bd99fd9",
   "metadata": {},
   "outputs": [
    {
     "data": {
      "text/plain": [
       "15.0"
      ]
     },
     "execution_count": 17,
     "metadata": {},
     "output_type": "execute_result"
    }
   ],
   "source": [
    "q/w"
   ]
  },
  {
   "cell_type": "code",
   "execution_count": 9,
   "id": "3f59ef86-981a-4c87-b181-20ffa29f1b9b",
   "metadata": {},
   "outputs": [],
   "source": [
    "e=4"
   ]
  },
  {
   "cell_type": "code",
   "execution_count": 10,
   "id": "f930d281-0066-4d6d-9ac3-7012b4cb3b13",
   "metadata": {},
   "outputs": [
    {
     "data": {
      "text/plain": [
       "1"
      ]
     },
     "execution_count": 10,
     "metadata": {},
     "output_type": "execute_result"
    }
   ],
   "source": [
    "q%e"
   ]
  },
  {
   "cell_type": "code",
   "execution_count": 20,
   "id": "89f3eed0-aee0-4f8e-ae0f-a66008ee9ff8",
   "metadata": {},
   "outputs": [
    {
     "data": {
      "text/plain": [
       "11"
      ]
     },
     "execution_count": 20,
     "metadata": {},
     "output_type": "execute_result"
    }
   ],
   "source": [
    "q//e"
   ]
  },
  {
   "cell_type": "code",
   "execution_count": 11,
   "id": "047de938-2521-418a-8e64-e50c671cb330",
   "metadata": {},
   "outputs": [
    {
     "data": {
      "text/plain": [
       "64"
      ]
     },
     "execution_count": 11,
     "metadata": {},
     "output_type": "execute_result"
    }
   ],
   "source": [
    "e**w"
   ]
  },
  {
   "cell_type": "code",
   "execution_count": 4,
   "id": "9223b65a-286b-4ba3-bede-0d976c859cb6",
   "metadata": {},
   "outputs": [],
   "source": [
    "L=[1,2,34,45.6,True,0,\"Sam\",\"Priksha\",11,9.99]\n"
   ]
  },
  {
   "cell_type": "code",
   "execution_count": 5,
   "id": "16088a3f-4b6a-4366-ab17-3e01ee042829",
   "metadata": {},
   "outputs": [
    {
     "name": "stdout",
     "output_type": "stream",
     "text": [
      "<class 'int'>\n",
      "<class 'int'>\n",
      "<class 'int'>\n",
      "<class 'float'>\n",
      "<class 'bool'>\n",
      "<class 'int'>\n",
      "<class 'str'>\n",
      "<class 'str'>\n",
      "<class 'int'>\n",
      "<class 'float'>\n"
     ]
    }
   ],
   "source": [
    "for  i in L :\n",
    "    print(type(i))"
   ]
  },
  {
   "cell_type": "code",
   "execution_count": 2,
   "id": "89ff03a4-0327-411c-a663-d61fd437cdd1",
   "metadata": {},
   "outputs": [
    {
     "name": "stdout",
     "output_type": "stream",
     "text": [
      "49.0\n"
     ]
    }
   ],
   "source": [
    "A=98\n",
    "B=2\n",
    "i= A/B\n",
    "while i != float:\n",
    "    print(i)\n",
    "    break\n",
    "else :\n",
    "    print (\"not an integer\")"
   ]
  },
  {
   "cell_type": "code",
   "execution_count": 1,
   "id": "8edc6f01-fb4c-45d4-9dca-d3864f1f049a",
   "metadata": {},
   "outputs": [
    {
     "name": "stdout",
     "output_type": "stream",
     "text": [
      "i is not divisible by 3\n",
      "i is not divisible by 3\n",
      "i is divisible by 3\n",
      "i is divisible by 3\n",
      "i is divisible by 3\n",
      "i is divisible by 3\n",
      "i is divisible by 3\n",
      "i is not divisible by 3\n",
      "i is divisible by 3\n",
      "i is not divisible by 3\n",
      "i is divisible by 3\n",
      "i is divisible by 3\n",
      "i is not divisible by 3\n",
      "i is divisible by 3\n",
      "i is divisible by 3\n",
      "i is not divisible by 3\n",
      "i is divisible by 3\n",
      "i is divisible by 3\n",
      "i is not divisible by 3\n",
      "i is divisible by 3\n",
      "i is not divisible by 3\n",
      "i is divisible by 3\n",
      "i is not divisible by 3\n",
      "i is divisible by 3\n",
      "i is divisible by 3\n"
     ]
    }
   ],
   "source": [
    "l=[1,2,3,6,9,12,15,16,27,56,48,33,58,99,87,65,45,66,76,90,55,333,13,900,876]\n",
    "for i in l:\n",
    "    if i%3== 0 :\n",
    "        print (\"i is divisible by 3\")\n",
    "    else :\n",
    "        print (\"i is not divisible by 3\")\n"
   ]
  },
  {
   "cell_type": "code",
   "execution_count": 12,
   "id": "54551428-cff5-4cd7-806b-3ba477cba821",
   "metadata": {},
   "outputs": [],
   "source": [
    "# Mutable Data Types - In this data type we are able to reassign the value of a particular index. For example- List"
   ]
  },
  {
   "cell_type": "code",
   "execution_count": 13,
   "id": "3834d4ab-79d2-4304-9926-fbac8aa46921",
   "metadata": {},
   "outputs": [],
   "source": [
    "L1= [1,2,4,\"Tina\", \"Physics\", 8j+7, 88 ]"
   ]
  },
  {
   "cell_type": "code",
   "execution_count": 14,
   "id": "7a9e2121-cbb0-4c27-b1e7-e1d0aa352c5f",
   "metadata": {},
   "outputs": [],
   "source": [
    "L1[-1]= \"Yes\""
   ]
  },
  {
   "cell_type": "code",
   "execution_count": 15,
   "id": "966aad62-9d52-478e-a831-7b07cc2203ae",
   "metadata": {},
   "outputs": [
    {
     "data": {
      "text/plain": [
       "[1, 2, 4, 'Tina', 'Physics', (7+8j), 'Yes']"
      ]
     },
     "execution_count": 15,
     "metadata": {},
     "output_type": "execute_result"
    }
   ],
   "source": [
    "L1"
   ]
  },
  {
   "cell_type": "code",
   "execution_count": 16,
   "id": "c3b082bb-1a00-44f0-94c4-fcab1cec0658",
   "metadata": {},
   "outputs": [],
   "source": [
    "# Immutable Data Types- In this data type we are not able to reassign the value of a particular index. For example- string"
   ]
  },
  {
   "cell_type": "code",
   "execution_count": 17,
   "id": "e65be108-3052-4776-a07e-5719bb4e1c43",
   "metadata": {},
   "outputs": [],
   "source": [
    "S=\"Shanti\""
   ]
  },
  {
   "cell_type": "code",
   "execution_count": 18,
   "id": "0fd4e1ee-b810-494d-923b-296d5605995e",
   "metadata": {},
   "outputs": [
    {
     "ename": "TypeError",
     "evalue": "'str' object does not support item assignment",
     "output_type": "error",
     "traceback": [
      "\u001b[0;31m---------------------------------------------------------------------------\u001b[0m",
      "\u001b[0;31mTypeError\u001b[0m                                 Traceback (most recent call last)",
      "Cell \u001b[0;32mIn[18], line 1\u001b[0m\n\u001b[0;32m----> 1\u001b[0m \u001b[43mS\u001b[49m\u001b[43m[\u001b[49m\u001b[38;5;241;43m1\u001b[39;49m\u001b[43m]\u001b[49m\u001b[38;5;241m=\u001b[39m \u001b[38;5;124m'\u001b[39m\u001b[38;5;124mP\u001b[39m\u001b[38;5;124m'\u001b[39m\n",
      "\u001b[0;31mTypeError\u001b[0m: 'str' object does not support item assignment"
     ]
    }
   ],
   "source": [
    "S[1]= 'P'"
   ]
  },
  {
   "cell_type": "code",
   "execution_count": null,
   "id": "70eace4c-a188-444e-aa1c-9b1d84c1f5cf",
   "metadata": {},
   "outputs": [],
   "source": []
  }
 ],
 "metadata": {
  "kernelspec": {
   "display_name": "Python 3 (ipykernel)",
   "language": "python",
   "name": "python3"
  },
  "language_info": {
   "codemirror_mode": {
    "name": "ipython",
    "version": 3
   },
   "file_extension": ".py",
   "mimetype": "text/x-python",
   "name": "python",
   "nbconvert_exporter": "python",
   "pygments_lexer": "ipython3",
   "version": "3.10.8"
  }
 },
 "nbformat": 4,
 "nbformat_minor": 5
}
