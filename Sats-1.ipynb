{
 "cells": [
  {
   "cell_type": "code",
   "execution_count": 1,
   "id": "d5a9ee6a-97dd-4842-8359-e2e4bbeefc7a",
   "metadata": {},
   "outputs": [],
   "source": [
    "#What is Statistics?"
   ]
  },
  {
   "cell_type": "code",
   "execution_count": 2,
   "id": "1ec2807d-0bfa-4bd6-b381-143065a4e395",
   "metadata": {},
   "outputs": [
    {
     "data": {
      "text/plain": [
       "'It is the science of collecting, oraganising and analyzing data.'"
      ]
     },
     "execution_count": 2,
     "metadata": {},
     "output_type": "execute_result"
    }
   ],
   "source": [
    "\"\"\"It is the science of collecting, oraganising and analyzing data.\"\"\""
   ]
  },
  {
   "cell_type": "code",
   "execution_count": 3,
   "id": "9f50881c-acc5-4b14-8399-688407e11c23",
   "metadata": {},
   "outputs": [],
   "source": [
    "#Define the different types of statistics and give an example of when each type might be used."
   ]
  },
  {
   "cell_type": "code",
   "execution_count": 4,
   "id": "6ed3e292-a3b4-476c-94af-bce9509f13af",
   "metadata": {},
   "outputs": [
    {
     "data": {
      "text/plain": [
       "'Different types of statistics are as follows:\\n    1. Descriptive Statistics- It consist of organising and summarizing data. \\n    Example- When we are supposed to find the mean value in a given data set.\\n    2. Infrenential Statistics - It consist of using data you have measured to form conclusion.\\n    Example- When we are supposed to perform hypothesis testing on a given statement.'"
      ]
     },
     "execution_count": 4,
     "metadata": {},
     "output_type": "execute_result"
    }
   ],
   "source": [
    "\"\"\"Different types of statistics are as follows:\n",
    "    1. Descriptive Statistics- It consist of organising and summarizing data. \n",
    "    Example- When we are supposed to find the mean value in a given data set.\n",
    "    2. Infrenential Statistics - It consist of using data you have measured to form conclusion.\n",
    "    Example- When we are supposed to perform hypothesis testing on a given statement.\"\"\" "
   ]
  },
  {
   "cell_type": "code",
   "execution_count": 5,
   "id": "3b2e58d7-f2bf-4707-a658-507c75b5bf78",
   "metadata": {},
   "outputs": [],
   "source": [
    "#Q3. What are the different types of data and how do they differ from each other? Provide an example of each type of data."
   ]
  },
  {
   "cell_type": "code",
   "execution_count": 6,
   "id": "9c373507-550e-4fb1-8686-20b81268fab3",
   "metadata": {},
   "outputs": [
    {
     "data": {
      "text/plain": [
       "'Different types of data are listed below :\\n    1.Qualitataive Data-When the data is in numeric format we can consider that type of data under qualitative data.\\n    It is futher sub-divided into two categories: \\n        a.Discrete - In this type the data is in the form of whole numbers and is specific.\\n        Example- Number of car in house, number of people in city\\n        \\n        b.Continious- This is also a type of data which is stored in the form of numbers but here we can use any value.(Whole number, fraction)\\n        Example- Height of student in a class, Distance between places.\\n        \\n    2.Quantitative Data-The data which is non numeric can be considered as quantative data.\\n    It is also sub-divided into 2 categories:\\n        a.Nominal- The data which can only be categorised are the part of nominal data.\\n        Example- People in genral, obc, sc/st, Category on basis of states we live in.\\n        b.Ordinal- The data which can be categorised and ranked as well.\\n        Example - Customer feedback for iphone'"
      ]
     },
     "execution_count": 6,
     "metadata": {},
     "output_type": "execute_result"
    }
   ],
   "source": [
    "\"\"\"Different types of data are listed below :\n",
    "    1.Qualitataive Data-When the data is in numeric format we can consider that type of data under qualitative data.\n",
    "    It is futher sub-divided into two categories: \n",
    "        a.Discrete - In this type the data is in the form of whole numbers and is specific.\n",
    "        Example- Number of car in house, number of people in city\n",
    "        \n",
    "        b.Continious- This is also a type of data which is stored in the form of numbers but here we can use any value.(Whole number, fraction)\n",
    "        Example- Height of student in a class, Distance between places.\n",
    "        \n",
    "    2.Quantitative Data-The data which is non numeric can be considered as quantative data.\n",
    "    It is also sub-divided into 2 categories:\n",
    "        a.Nominal- The data which can only be categorised are the part of nominal data.\n",
    "        Example- People in genral, obc, sc/st, Category on basis of states we live in.\n",
    "        b.Ordinal- The data which can be categorised and ranked as well.\n",
    "        Example - Customer feedback for iphone\"\"\""
   ]
  },
  {
   "cell_type": "code",
   "execution_count": 7,
   "id": "a7663329-ba87-423d-a9d4-2c087087ca27",
   "metadata": {},
   "outputs": [],
   "source": [
    "#Q4. Categorise the following datasets with respect to quantitative and qualitative data types:\n",
    "#(i) Grading in exam: A+, A, B+, B, C+, C, D, E\n",
    "#(ii) Colour of mangoes: yellow, green, orange, red\n",
    "#iii) Height data of a class: [178.9, 179, 179.5, 176, 177.2, 178.3, 175.8,...]\n",
    "#(iv) Number of mangoes exported by a farm: [500, 600, 478, 672, ...]\n",
    "\n"
   ]
  },
  {
   "cell_type": "code",
   "execution_count": 8,
   "id": "bf321643-2da2-4bc9-a007-4a69fc9be99e",
   "metadata": {},
   "outputs": [],
   "source": [
    "#(i) Grading in exam: A+, A, B+, B, C+, C, D, E- Qualitative Data\n",
    "#(ii) Colour of mangoes: yellow, green, orange, red- Qualitative Data\n",
    "#iii) Height data of a class: [178.9, 179, 179.5, 176, 177.2, 178.3, 175.8,...]- Quantitative Data\n",
    "#(iv) Number of mangoes exported by a farm: [500, 600, 478, 672, ...]- Quantitative Data\n"
   ]
  },
  {
   "cell_type": "code",
   "execution_count": 9,
   "id": "a633aed8-1ad0-4929-8ae2-3ccf80179c67",
   "metadata": {},
   "outputs": [],
   "source": [
    "#Q5. Explain the concept of levels of measurement and give an example of a variable for each level."
   ]
  },
  {
   "cell_type": "code",
   "execution_count": 10,
   "id": "3077dd55-cf5b-45e7-a50b-0b4d73b226cb",
   "metadata": {},
   "outputs": [
    {
     "data": {
      "text/plain": [
       "'Level of measurement- Level of measurement or scale of measure is a classification that describes\\nthe nature of information within the values assigned to variables. There are basically 4 level of measurement.\\n1.Nominal- Data can be categorised. Ex- Eye colour\\n2.Ordianl- Data can be categorised and ranked. Ex- Satisfaction Level\\n3.Interval- Data can be categorised, ranked and evenly spread. Ex- Temperature \\n4.Ratio- Data can be categorised, ranked, evenly spaced and has a natural zero. Ex- Weight of persons'"
      ]
     },
     "execution_count": 10,
     "metadata": {},
     "output_type": "execute_result"
    }
   ],
   "source": [
    "\"\"\"Level of measurement- Level of measurement or scale of measure is a classification that describes\n",
    "the nature of information within the values assigned to variables. There are basically 4 level of measurement.\n",
    "1.Nominal- Data can be categorised. Ex- Eye colour\n",
    "2.Ordianl- Data can be categorised and ranked. Ex- Satisfaction Level\n",
    "3.Interval- Data can be categorised, ranked and evenly spread. Ex- Temperature \n",
    "4.Ratio- Data can be categorised, ranked, evenly spaced and has a natural zero. Ex- Weight of persons\"\"\""
   ]
  },
  {
   "cell_type": "code",
   "execution_count": 11,
   "id": "ec6c34e1-b45b-471d-93e1-422a259b29dc",
   "metadata": {},
   "outputs": [],
   "source": [
    "#Q6. Why is it important to understand the level of measurement when analyzing data? Provide an\n",
    "#example to illustrate your answer.\n"
   ]
  },
  {
   "cell_type": "code",
   "execution_count": 12,
   "id": "c76d80ed-dd83-4acf-a114-e18bcb48357c",
   "metadata": {},
   "outputs": [
    {
     "data": {
      "text/plain": [
       "'Understanding the level of measurement is crucial when analyzing data because it determines the types of statistical analysis\\nand interpretation that can be applied to the data. Different levels of measurement have different properties and constraints,\\nwhich dictate the appropriate statistical techniques and operations that can be performed.It also helps in avoiding invalid \\nconclusions or misleading interpretations.\\n\\nExample: Let us supoose we have data of car makers(Honda, Maruti, Toyata) and data of height of students in a class.\\nOn the first set of data we can do operations just only on the basis of categorisation of car model. So, we can use nominal \\nmethod on the other hand for height of student data we can perform all mathemical operations and can further classify the \\ndata in different groups depending on our situtation. Hence this data will be a part of ratio. Depending on the type of data\\nwe have we can choose differnt set of operations to get the output.'"
      ]
     },
     "execution_count": 12,
     "metadata": {},
     "output_type": "execute_result"
    }
   ],
   "source": [
    "\"\"\"Understanding the level of measurement is crucial when analyzing data because it determines the types of statistical analysis\n",
    "and interpretation that can be applied to the data. Different levels of measurement have different properties and constraints,\n",
    "which dictate the appropriate statistical techniques and operations that can be performed.It also helps in avoiding invalid \n",
    "conclusions or misleading interpretations.\n",
    "\n",
    "Example: Let us supoose we have data of car makers(Honda, Maruti, Toyata) and data of height of students in a class.\n",
    "On the first set of data we can do operations just only on the basis of categorisation of car model. So, we can use nominal \n",
    "method on the other hand for height of student data we can perform all mathemical operations and can further classify the \n",
    "data in different groups depending on our situtation. Hence this data will be a part of ratio. Depending on the type of data\n",
    "we have we can choose differnt set of operations to get the output.\"\"\"\n"
   ]
  },
  {
   "cell_type": "code",
   "execution_count": 14,
   "id": "3d1b95bf-467f-4331-847d-332166e1816e",
   "metadata": {},
   "outputs": [],
   "source": [
    "#Q7. How nominal data type is different from ordinal data type?"
   ]
  },
  {
   "cell_type": "code",
   "execution_count": 15,
   "id": "9a682559-52ca-48a8-84a7-dd469d2db99f",
   "metadata": {},
   "outputs": [
    {
     "data": {
      "text/plain": [
       "'Nominal data type is differnt from ordinal data type as in nominal data type we can only categorise the data \\nbut the ordinal data type the data can be categorised as well as ranked.'"
      ]
     },
     "execution_count": 15,
     "metadata": {},
     "output_type": "execute_result"
    }
   ],
   "source": [
    "\"\"\"Nominal data type is differnt from ordinal data type as in nominal data type we can only categorise the data \n",
    "but the ordinal data type the data can be categorised as well as ranked.\"\"\""
   ]
  },
  {
   "cell_type": "code",
   "execution_count": 16,
   "id": "e3534187-11e3-427b-9e35-7e1b2bac6c04",
   "metadata": {},
   "outputs": [],
   "source": [
    "#Q8. Which type of plot can be used to display data in terms of range?"
   ]
  },
  {
   "cell_type": "code",
   "execution_count": 17,
   "id": "574aca85-efdd-4142-a820-703d9a93e1f2",
   "metadata": {},
   "outputs": [],
   "source": [
    "#Histogram"
   ]
  },
  {
   "cell_type": "code",
   "execution_count": 18,
   "id": "fadb3ca8-f535-413d-b524-796d5cd516eb",
   "metadata": {},
   "outputs": [],
   "source": [
    "#Q9. Describe the difference between descriptive and inferential statistics. Give an example of each\n",
    "#type of statistics and explain how they are used.\n"
   ]
  },
  {
   "cell_type": "code",
   "execution_count": 19,
   "id": "cf1b67f1-8be2-43aa-9a71-292f34987950",
   "metadata": {},
   "outputs": [
    {
     "data": {
      "text/plain": [
       "'1. Descriptive Statistics- It consist of organising and summarizing data. \\n    Example- To know the average GDP of country.\\n    2. Infrenential Statistics - It consist of using data you have measured to form conclusion.\\n    Example- Performing hypothesis testing before lauch of any product'"
      ]
     },
     "execution_count": 19,
     "metadata": {},
     "output_type": "execute_result"
    }
   ],
   "source": [
    "\"\"\"1. Descriptive Statistics- It consist of organising and summarizing data. \n",
    "    Example- To know the average GDP of country. We can use meaure of control on different parameters.\n",
    "    2. Infrenential Statistics - It consist of using data you have measured to form conclusion.\n",
    "    Example- Performing hypothesis testing before lauch of any product\"\"\" "
   ]
  },
  {
   "cell_type": "code",
   "execution_count": 20,
   "id": "2d4000a1-e8e8-4ed1-9e6b-4093f5ddce91",
   "metadata": {},
   "outputs": [],
   "source": [
    "#Q10. What are some common measures of central tendency and variability used in statistics? Explain\n",
    "#how each measure can be used to describe a dataset."
   ]
  },
  {
   "cell_type": "code",
   "execution_count": null,
   "id": "b8ce6469-2060-41dc-bd50-ccda3ba037fe",
   "metadata": {},
   "outputs": [],
   "source": [
    "Some common measure of central tendency are :\n",
    "    1. Mean- It is used to find the average value in a given data set.\n",
    "    For example if we are given with salary of differnt of employees working in a company and we are asked \n",
    "    to find the average salary of employees and futher classify them as higher, mid or lower salary bracket then we can use \n",
    "    mean to calcluate the same.\n",
    "    \n",
    "    Salary= [10k,20k,30k,15k,50k,80k,100k,15k]\n",
    "    \n",
    "    Mean= Total Salary/ Number of employees \n",
    "    \n",
    "    Mean= (10+20+30+15+50+80+100+15)k/8 =40K\n",
    "    \n",
    "    Salary above mean can be considerd as higher salary and below them can be cosidered as lower salary.\n",
    "    \n",
    "    2. Median- It is used to find the central value in a data set. In case of even number of data points we use (n1+n2)/2, \n",
    "    where n1 and n2 are central values. In case of odd its the middle value.\n",
    "    \n",
    "    Salary= [10k,15k,15k,20k,30k,50k,80k,100k]\n",
    "    \n",
    "    Median salary = (20k+30K)/2= 25 K\n",
    "    \n",
    "    \n",
    "    3.Mode- The value that appers more frequent in a dataset.\n",
    "    \n",
    "    Mode Sal"
   ]
  }
 ],
 "metadata": {
  "kernelspec": {
   "display_name": "Python 3 (ipykernel)",
   "language": "python",
   "name": "python3"
  },
  "language_info": {
   "codemirror_mode": {
    "name": "ipython",
    "version": 3
   },
   "file_extension": ".py",
   "mimetype": "text/x-python",
   "name": "python",
   "nbconvert_exporter": "python",
   "pygments_lexer": "ipython3",
   "version": "3.10.8"
  }
 },
 "nbformat": 4,
 "nbformat_minor": 5
}
